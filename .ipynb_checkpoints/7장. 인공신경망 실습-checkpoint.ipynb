{
 "cells": [
  {
   "cell_type": "code",
   "execution_count": 1,
   "id": "d9fbaf78",
   "metadata": {},
   "outputs": [],
   "source": [
    "# sklearn의 datasets에서 load_iris 로드\n",
    "from sklearn.datasets import load_iris\n",
    "\n",
    "# iris 데이터셋을 iris라는 변수에 저장\n",
    "iris = load_iris()"
   ]
  },
  {
   "cell_type": "code",
   "execution_count": 2,
   "id": "9310a825",
   "metadata": {},
   "outputs": [
    {
     "data": {
      "text/plain": [
       "dict_keys(['data', 'target', 'frame', 'target_names', 'DESCR', 'feature_names', 'filename', 'data_module'])"
      ]
     },
     "execution_count": 2,
     "metadata": {},
     "output_type": "execute_result"
    }
   ],
   "source": [
    "# iris에 있는 key값을 출력\n",
    "iris.keys()"
   ]
  },
  {
   "cell_type": "code",
   "execution_count": 3,
   "id": "73b599ae",
   "metadata": {},
   "outputs": [
    {
     "data": {
      "text/plain": [
       "['sepal length (cm)',\n",
       " 'sepal width (cm)',\n",
       " 'petal length (cm)',\n",
       " 'petal width (cm)']"
      ]
     },
     "execution_count": 3,
     "metadata": {},
     "output_type": "execute_result"
    }
   ],
   "source": [
    "iris.feature_names\n",
    "\n",
    "# sepal length : 꽃받침 길이\n",
    "# sepal width : 꽃받침 너비\n",
    "# petal length : 꽃잎 길이\n",
    "# petal width : 꽃잎 너비"
   ]
  },
  {
   "cell_type": "code",
   "execution_count": 4,
   "id": "4b664792",
   "metadata": {},
   "outputs": [
    {
     "data": {
      "text/plain": [
       "(150, 4)"
      ]
     },
     "execution_count": 4,
     "metadata": {},
     "output_type": "execute_result"
    }
   ],
   "source": [
    "# iris의 데이터에 해당하는 부분과 X와 Y의 크기를 나타냄\n",
    "iris['data'].shape"
   ]
  },
  {
   "cell_type": "code",
   "execution_count": 5,
   "id": "4c4f264e",
   "metadata": {},
   "outputs": [
    {
     "data": {
      "text/plain": [
       "array([[5.1, 3.5, 1.4, 0.2],\n",
       "       [4.9, 3. , 1.4, 0.2],\n",
       "       [4.7, 3.2, 1.3, 0.2],\n",
       "       [4.6, 3.1, 1.5, 0.2],\n",
       "       [5. , 3.6, 1.4, 0.2],\n",
       "       [5.4, 3.9, 1.7, 0.4],\n",
       "       [4.6, 3.4, 1.4, 0.3],\n",
       "       [5. , 3.4, 1.5, 0.2],\n",
       "       [4.4, 2.9, 1.4, 0.2],\n",
       "       [4.9, 3.1, 1.5, 0.1]])"
      ]
     },
     "execution_count": 5,
     "metadata": {},
     "output_type": "execute_result"
    }
   ],
   "source": [
    "# iris 데이터셋의 0번째부터 9번째까지를 슬라이싱해서 나타냄\n",
    "iris['data'][0:10]"
   ]
  },
  {
   "cell_type": "code",
   "execution_count": 6,
   "id": "d8597a7a",
   "metadata": {},
   "outputs": [
    {
     "data": {
      "text/plain": [
       "array(['setosa', 'versicolor', 'virginica'], dtype='<U10')"
      ]
     },
     "execution_count": 6,
     "metadata": {},
     "output_type": "execute_result"
    }
   ],
   "source": [
    "iris.target_names"
   ]
  },
  {
   "cell_type": "code",
   "execution_count": 7,
   "id": "fd869f68",
   "metadata": {},
   "outputs": [
    {
     "data": {
      "text/plain": [
       "array(['setosa', 'versicolor', 'virginica'], dtype='<U10')"
      ]
     },
     "execution_count": 7,
     "metadata": {},
     "output_type": "execute_result"
    }
   ],
   "source": [
    "iris['target_names']"
   ]
  },
  {
   "cell_type": "code",
   "execution_count": 8,
   "id": "a88a047e",
   "metadata": {},
   "outputs": [
    {
     "data": {
      "text/plain": [
       "array([0, 0, 0, 0, 0, 0, 0, 0, 0, 0, 0, 0, 0, 0, 0, 0, 0, 0, 0, 0, 0, 0,\n",
       "       0, 0, 0, 0, 0, 0, 0, 0, 0, 0, 0, 0, 0, 0, 0, 0, 0, 0, 0, 0, 0, 0,\n",
       "       0, 0, 0, 0, 0, 0, 1, 1, 1, 1, 1, 1, 1, 1, 1, 1, 1, 1, 1, 1, 1, 1,\n",
       "       1, 1, 1, 1, 1, 1, 1, 1, 1, 1, 1, 1, 1, 1, 1, 1, 1, 1, 1, 1, 1, 1,\n",
       "       1, 1, 1, 1, 1, 1, 1, 1, 1, 1, 1, 1, 2, 2, 2, 2, 2, 2, 2, 2, 2, 2,\n",
       "       2, 2, 2, 2, 2, 2, 2, 2, 2, 2, 2, 2, 2, 2, 2, 2, 2, 2, 2, 2, 2, 2,\n",
       "       2, 2, 2, 2, 2, 2, 2, 2, 2, 2, 2, 2, 2, 2, 2, 2, 2, 2])"
      ]
     },
     "execution_count": 8,
     "metadata": {},
     "output_type": "execute_result"
    }
   ],
   "source": [
    "# target 변수의 값 출력\n",
    "# 0~49는 0, 그 뒤 50개는 1, 그 뒤 50개는 2\n",
    "# 0은 setosa\n",
    "# 1은 versicolor\n",
    "# 2는 virginica\n",
    "\n",
    "iris['target']"
   ]
  },
  {
   "cell_type": "code",
   "execution_count": 9,
   "id": "cfc2e31e",
   "metadata": {},
   "outputs": [],
   "source": [
    "# X에는 iris 데이터의 값을 입력\n",
    "# y에는 target 변수를 입력\n",
    "\n",
    "X = iris['data']\n",
    "y = iris['target']"
   ]
  },
  {
   "cell_type": "code",
   "execution_count": 10,
   "id": "2ce41649",
   "metadata": {},
   "outputs": [],
   "source": [
    "# 위의 데이터를 train과 test로 구분\n",
    "# sklearn의 model_selection 내에 train_test_split를 로드\n",
    "# tarin_test_split를 이용해 위의 X변수에 선언한 data값과 y변수에 선언한 target\n",
    "# Split arrays or matrices into random train and test subsets\n",
    "# 비율을 정해주지 않는 경우 테스트 : 훈련 데이터의 비율은 1 : 3 정도로 구분\n",
    "\n",
    "from sklearn.model_selection import train_test_split\n",
    "X_train, X_test, y_train, y_test = train_test_split(X, y)"
   ]
  },
  {
   "cell_type": "code",
   "execution_count": 11,
   "id": "60740a44",
   "metadata": {},
   "outputs": [],
   "source": [
    "# sklearn 내에 preprocessing의 StandardScaler를 로드\n",
    "# StandardScalar는 정규화를 시키는 함수\n",
    "# StandardScalar는 데이터의 범위를 평균 0, 표준편차 1의 범위로 바꿔주는 함수\n",
    "# 그리고 StandardScalar를 scaler라는 변수에 저장해 사용\n",
    "\n",
    "from sklearn.preprocessing import StandardScaler\n",
    "scaler = StandardScaler()"
   ]
  },
  {
   "cell_type": "code",
   "execution_count": 12,
   "id": "8d79dd40",
   "metadata": {},
   "outputs": [
    {
     "data": {
      "text/plain": [
       "StandardScaler()"
      ]
     },
     "execution_count": 12,
     "metadata": {},
     "output_type": "execute_result"
    }
   ],
   "source": [
    "# StandardScalar를 담은 변수에 X_train 데이터의 평균과 표준편차를 구함\n",
    "\n",
    "scaler.fit(X_train)"
   ]
  },
  {
   "cell_type": "code",
   "execution_count": 13,
   "id": "80eeedac",
   "metadata": {},
   "outputs": [],
   "source": [
    "# X_train과 X_test 데이터를 StandardScalar를 이용해 정규화\n",
    "\n",
    "X_train = scaler.transform(X_train)\n",
    "X_test = scaler.transform(X_test)"
   ]
  },
  {
   "cell_type": "code",
   "execution_count": 14,
   "id": "5c48a4ea",
   "metadata": {},
   "outputs": [],
   "source": [
    "# 다층인공신경망(MLP) 분류 알고리즘을 sklearn의 neural_network으로부터 로드\n",
    "from sklearn.neural_network import MLPClassifier\n",
    "\n",
    "# MLP 알고리즘의 히든레이어 노드를 10개씩 3계층으로 구성\n",
    "mlp = MLPClassifier(hidden_layer_sizes=(10, 10, 10))"
   ]
  },
  {
   "cell_type": "code",
   "execution_count": 15,
   "id": "2e4699e4",
   "metadata": {},
   "outputs": [
    {
     "name": "stderr",
     "output_type": "stream",
     "text": [
      "C:\\Users\\82104\\anaconda3\\lib\\site-packages\\sklearn\\neural_network\\_multilayer_perceptron.py:692: ConvergenceWarning: Stochastic Optimizer: Maximum iterations (200) reached and the optimization hasn't converged yet.\n",
      "  warnings.warn(\n"
     ]
    },
    {
     "data": {
      "text/plain": [
       "'\\nActivation: 다층신경망에서 사용하는 활성화 함수를 나타냄\\nAlpha: 신경망 내의 정규화 파라미터\\nBatch_size: 최적화를 시키기 위한 학습 최소 크기\\nEpsilon: 수치 안정성을 위한 오차 값\\nLearning_rate_init: 가중치를 업데이트 할 때 크기를 제어\\nMax_iter: 최대 반복 횟수\\nHidden_layer_sizes: 히든레이어의 크기\\nLearning_rate: 단계별로 움직이는 학습 속도\\nShuffle: 데이터를 학습 시 데이터들의 위치를 임의적으로 변경하는지의 여부\\nSolver: 가중치 최적화를 위해 사용하는 함수\\nValidation_fraction: training데이터를 학습 시 validation의 비율\\nValidation: training데이터를 학습 시 데이터가 유의미한지를 검증하는 데이터\\n'"
      ]
     },
     "execution_count": 15,
     "metadata": {},
     "output_type": "execute_result"
    }
   ],
   "source": [
    "# 위에서 분류한 X_train과 y_train을 MLP를 이용해 학습\n",
    "\n",
    "mlp.fit(X_train, y_train)\n",
    "\n",
    "# 아래에 나타난 빨간색 부분은 Warning부분 최적화를 할 때 주의하라는 내용이므로 무시해도 됨.\n",
    "'''\n",
    "Activation: 다층신경망에서 사용하는 활성화 함수를 나타냄\n",
    "Alpha: 신경망 내의 정규화 파라미터\n",
    "Batch_size: 최적화를 시키기 위한 학습 최소 크기\n",
    "Epsilon: 수치 안정성을 위한 오차 값\n",
    "Learning_rate_init: 가중치를 업데이트 할 때 크기를 제어\n",
    "Max_iter: 최대 반복 횟수\n",
    "Hidden_layer_sizes: 히든레이어의 크기\n",
    "Learning_rate: 단계별로 움직이는 학습 속도\n",
    "Shuffle: 데이터를 학습 시 데이터들의 위치를 임의적으로 변경하는지의 여부\n",
    "Solver: 가중치 최적화를 위해 사용하는 함수\n",
    "Validation_fraction: training데이터를 학습 시 validation의 비율\n",
    "Validation: training데이터를 학습 시 데이터가 유의미한지를 검증하는 데이터\n",
    "'''"
   ]
  },
  {
   "cell_type": "code",
   "execution_count": 16,
   "id": "12626826",
   "metadata": {},
   "outputs": [],
   "source": [
    "# mlp로 학습한 내용을 X_test에 대해 분류한 결과를 predictions 변수에 저장\n",
    "\n",
    "predictions = mlp.predict(X_test)"
   ]
  },
  {
   "cell_type": "code",
   "execution_count": 17,
   "id": "091ae323",
   "metadata": {},
   "outputs": [
    {
     "name": "stdout",
     "output_type": "stream",
     "text": [
      "[[12  1  0]\n",
      " [ 0 11  1]\n",
      " [ 0  2 11]]\n"
     ]
    }
   ],
   "source": [
    "# sklearn.metrics의 confusion_matrix와 classification_report를 로드\n",
    "# confusion_matrix는 데이터가 맞는지의 유무를 판단\n",
    "# classification_report는 precision과 recall 그리고 f1_score 등을 계산해 정확률에 대해 계산\n",
    "\n",
    "from sklearn.metrics import confusion_matrix, classification_report\n",
    "\n",
    "# confusion_matrix를 이용해 실제값 y_test와 예측값에 대해 비교\n",
    "print(confusion_matrix(y_test, predictions))"
   ]
  },
  {
   "cell_type": "code",
   "execution_count": 18,
   "id": "913d0d01",
   "metadata": {},
   "outputs": [
    {
     "name": "stdout",
     "output_type": "stream",
     "text": [
      "              precision    recall  f1-score   support\n",
      "\n",
      "           0       1.00      0.92      0.96        13\n",
      "           1       0.79      0.92      0.85        12\n",
      "           2       0.92      0.85      0.88        13\n",
      "\n",
      "    accuracy                           0.89        38\n",
      "   macro avg       0.90      0.90      0.90        38\n",
      "weighted avg       0.90      0.89      0.90        38\n",
      "\n"
     ]
    }
   ],
   "source": [
    "# classification_report를 이용해 정확률, 재현율, f1-score를 확인\n",
    "print(classification_report(y_test, predictions))"
   ]
  },
  {
   "cell_type": "code",
   "execution_count": null,
   "id": "9c8f540d",
   "metadata": {},
   "outputs": [],
   "source": []
  }
 ],
 "metadata": {
  "kernelspec": {
   "display_name": "Python 3 (ipykernel)",
   "language": "python",
   "name": "python3"
  },
  "language_info": {
   "codemirror_mode": {
    "name": "ipython",
    "version": 3
   },
   "file_extension": ".py",
   "mimetype": "text/x-python",
   "name": "python",
   "nbconvert_exporter": "python",
   "pygments_lexer": "ipython3",
   "version": "3.8.12"
  }
 },
 "nbformat": 4,
 "nbformat_minor": 5
}
