{
 "cells": [
  {
   "cell_type": "markdown",
   "id": "69540a38",
   "metadata": {},
   "source": [
    "- Pandas는 데이터프레임을 사용하기 위한 패키지\n",
    "- Numpy는 수학적 연산을 하기 위한 패키지"
   ]
  },
  {
   "cell_type": "code",
   "execution_count": 1,
   "id": "68f8b8b6",
   "metadata": {},
   "outputs": [],
   "source": [
    "import pandas as pd\n",
    "import numpy as np"
   ]
  },
  {
   "cell_type": "markdown",
   "id": "15c8a0c9",
   "metadata": {},
   "source": [
    "- 미리 준비된 csv파일 사용 (customer_data(filtered).csv)\n",
    "- CP949는 한글을 위한 문자 인코딩"
   ]
  },
  {
   "cell_type": "code",
   "execution_count": 2,
   "id": "1fa3cab3",
   "metadata": {},
   "outputs": [
    {
     "data": {
      "text/html": [
       "<div>\n",
       "<style scoped>\n",
       "    .dataframe tbody tr th:only-of-type {\n",
       "        vertical-align: middle;\n",
       "    }\n",
       "\n",
       "    .dataframe tbody tr th {\n",
       "        vertical-align: top;\n",
       "    }\n",
       "\n",
       "    .dataframe thead th {\n",
       "        text-align: right;\n",
       "    }\n",
       "</style>\n",
       "<table border=\"1\" class=\"dataframe\">\n",
       "  <thead>\n",
       "    <tr style=\"text-align: right;\">\n",
       "      <th></th>\n",
       "      <th>Score</th>\n",
       "      <th>Review</th>\n",
       "      <th>SNS</th>\n",
       "      <th>Addr</th>\n",
       "      <th>Score2</th>\n",
       "    </tr>\n",
       "  </thead>\n",
       "  <tbody>\n",
       "    <tr>\n",
       "      <th>0</th>\n",
       "      <td>5</td>\n",
       "      <td>안녕하세요.   데일리 신청해 봅니다. 어렸을 적 부터 장이 좋지 않았는데 고기 인...</td>\n",
       "      <td>twitter</td>\n",
       "      <td>경기도</td>\n",
       "      <td>good</td>\n",
       "    </tr>\n",
       "    <tr>\n",
       "      <th>1</th>\n",
       "      <td>2</td>\n",
       "      <td>오!! 안그래도 장이 안좋아서 아침마다 고생이거든요~~  먹고 건강해지고 싶네용 ^^</td>\n",
       "      <td>facebook</td>\n",
       "      <td>서울특별시</td>\n",
       "      <td>bad</td>\n",
       "    </tr>\n",
       "    <tr>\n",
       "      <th>2</th>\n",
       "      <td>2</td>\n",
       "      <td>요즘 장이 안좋은지 하루종일 더부룩하고 배변후에도 시원하지 않네요.꼭 체험해보고싶습니다.</td>\n",
       "      <td>facebook</td>\n",
       "      <td>서울특별시</td>\n",
       "      <td>bad</td>\n",
       "    </tr>\n",
       "    <tr>\n",
       "      <th>3</th>\n",
       "      <td>3</td>\n",
       "      <td>우리 아이가 은가를 동글 동글 염소 똥처럼 눈답니다. 매번 너무 걱정이랍니다. 꼭 ...</td>\n",
       "      <td>facebook</td>\n",
       "      <td>서울특별시</td>\n",
       "      <td>normal</td>\n",
       "    </tr>\n",
       "    <tr>\n",
       "      <th>4</th>\n",
       "      <td>5</td>\n",
       "      <td>이것저것 유산균을 먹어봤지만 이거다~ 하는걸 아직 못만났어요. 장이 예민한 우리 작...</td>\n",
       "      <td>kakaostory</td>\n",
       "      <td>경상남도</td>\n",
       "      <td>good</td>\n",
       "    </tr>\n",
       "  </tbody>\n",
       "</table>\n",
       "</div>"
      ],
      "text/plain": [
       "   Score                                             Review         SNS  \\\n",
       "0      5  안녕하세요.   데일리 신청해 봅니다. 어렸을 적 부터 장이 좋지 않았는데 고기 인...     twitter   \n",
       "1      2    오!! 안그래도 장이 안좋아서 아침마다 고생이거든요~~  먹고 건강해지고 싶네용 ^^    facebook   \n",
       "2      2  요즘 장이 안좋은지 하루종일 더부룩하고 배변후에도 시원하지 않네요.꼭 체험해보고싶습니다.    facebook   \n",
       "3      3  우리 아이가 은가를 동글 동글 염소 똥처럼 눈답니다. 매번 너무 걱정이랍니다. 꼭 ...    facebook   \n",
       "4      5  이것저것 유산균을 먹어봤지만 이거다~ 하는걸 아직 못만났어요. 장이 예민한 우리 작...  kakaostory   \n",
       "\n",
       "    Addr  Score2  \n",
       "0    경기도    good  \n",
       "1  서울특별시     bad  \n",
       "2  서울특별시     bad  \n",
       "3  서울특별시  normal  \n",
       "4   경상남도    good  "
      ]
     },
     "execution_count": 2,
     "metadata": {},
     "output_type": "execute_result"
    }
   ],
   "source": [
    "df = pd.read_csv('customer_data(filtered)_generated.csv', index_col=0, encoding = 'utf-8')\n",
    "df.head()"
   ]
  },
  {
   "cell_type": "markdown",
   "id": "2d5925be",
   "metadata": {},
   "source": [
    "# 1. 특징값 추출"
   ]
  },
  {
   "cell_type": "markdown",
   "id": "099053b1",
   "metadata": {},
   "source": [
    "## 1.1 텍스트 데이터 특징값 추출"
   ]
  },
  {
   "cell_type": "markdown",
   "id": "601a7a42",
   "metadata": {},
   "source": [
    "- 한국어 텍스트 분석을 위한 KoNLPy 설치\n",
    "- http://konlpy-ko.readthedocs.io/ko/v0.4.4/\n",
    "- 목차 > 사용하기 > 설치하기 > 윈도우\n",
    "\n",
    "\n",
    "- Okt(구 Twitter) 형태소 분석기 import\n",
    "- 형태소 분석기 Okt(구 twitter) 생성"
   ]
  },
  {
   "cell_type": "code",
   "execution_count": 3,
   "id": "9cf09c99",
   "metadata": {},
   "outputs": [],
   "source": [
    "from konlpy.tag import Okt\n",
    "okt = Okt()"
   ]
  },
  {
   "cell_type": "markdown",
   "id": "311a8f7a",
   "metadata": {},
   "source": [
    "- Okt(구 Twitter) 형태소 분석기로 명사, 형용사를 추출하는 함수 tokenize를 생성\n",
    "- For 문을 사용해 토큰의 품사가 명사, 형용사일 경우 리스트 변수 stems에 저장\n",
    "- 3번 줄의 pos() 함수는 주어진 텍스트를 토큰화하여 품사를 판별하고 태그를 붙여줌"
   ]
  },
  {
   "cell_type": "code",
   "execution_count": 4,
   "id": "78c5014f",
   "metadata": {},
   "outputs": [],
   "source": [
    "def tokenize(text):\n",
    "    stems = []\n",
    "    tagged = okt.pos(text)\n",
    "    for i in range (0, len(tagged)): \n",
    "        if (tagged[i][1]=='Noun' or tagged[i][1]=='Adjective') :\n",
    "            stems.append(tagged[i][0])\n",
    "    return stems"
   ]
  },
  {
   "cell_type": "markdown",
   "id": "b901f95a",
   "metadata": {},
   "source": [
    "- 고객의 신청글 항목의 0번째 텍스트를 형태소 분석\n",
    "- 토큰의 품사가 명사인 경우 출력\n",
    "- For문을 빼고 tagged를 출력하면 모든 토큰의 품사를 확인가능"
   ]
  },
  {
   "cell_type": "code",
   "execution_count": 5,
   "id": "92c0a4a9",
   "metadata": {},
   "outputs": [
    {
     "name": "stdout",
     "output_type": "stream",
     "text": [
      "('데', 'Noun')\n",
      "('일리', 'Noun')\n",
      "('신청', 'Noun')\n",
      "('적', 'Noun')\n",
      "('부터', 'Noun')\n",
      "('고기', 'Noun')\n",
      "('인스턴트', 'Noun')\n",
      "('음식', 'Noun')\n",
      "('장', 'Noun')\n",
      "('상태', 'Noun')\n",
      "('더욱', 'Noun')\n",
      "('업무', 'Noun')\n",
      "('스트레스', 'Noun')\n",
      "('또한', 'Noun')\n",
      "('것', 'Noun')\n",
      "('체험', 'Noun')\n",
      "('신청', 'Noun')\n",
      "('보고', 'Noun')\n",
      "('장', 'Noun')\n",
      "('경험', 'Noun')\n",
      "('보고', 'Noun')\n"
     ]
    }
   ],
   "source": [
    "tagged = okt.pos(df['Review'][0])\n",
    "for i in range (0, len(tagged)): \n",
    "        if (tagged[i][1]=='Noun') :\n",
    "            print(tagged[i])"
   ]
  },
  {
   "cell_type": "markdown",
   "id": "1711373f",
   "metadata": {},
   "source": [
    "- 텍스트에서 TF-IDF 값을 구하기 위한 패키지 import\n",
    "- Scikit learn에서 제공하는 TfidfVectorizer 모듈을 사용"
   ]
  },
  {
   "cell_type": "code",
   "execution_count": 6,
   "id": "312e25dc",
   "metadata": {},
   "outputs": [],
   "source": [
    "from sklearn.feature_extraction.text import TfidfVectorizer"
   ]
  },
  {
   "cell_type": "markdown",
   "id": "8b9bd1ff",
   "metadata": {},
   "source": [
    "- 데이터 프레임의 텍스트를 astype 함수를 사용해 문자열 형태로 변환\n",
    "- tolist 함수를 사용해 리스트로, array 함수를 사용해 배열로 순차적으로 변환"
   ]
  },
  {
   "cell_type": "code",
   "execution_count": 7,
   "id": "528d34b7",
   "metadata": {},
   "outputs": [],
   "source": [
    "text_data_list = df['Review'].astype(str).tolist()\n",
    "text_data_arr = np.array([''.join(text) for text in text_data_list])"
   ]
  },
  {
   "cell_type": "markdown",
   "id": "71e16e2d",
   "metadata": {},
   "source": [
    "- TF-IDF 값으로 문서단어행렬을 생성하는 TfidfVectorizer를 사용해 모듈 vectorizer를 생성\n",
    "- min_df = 2 : 단어의 최소 등장 빈도로 2번 이상 등장하는 단어들을 대상으로 함\n",
    "- tokenizer = tokenize : 입력되는 문자열을 토큰화하여 사용\n",
    "- Norm = l2 : pearson 함수를 사용해 normalization 진행\n",
    "- 문서단어행렬을 만드는 Fit_transform함수를 사용해 배열에 저장된 데이터의 문서단어행렬을 구하고 matrix 형식의 변수 text_data에 저장"
   ]
  },
  {
   "cell_type": "code",
   "execution_count": 8,
   "id": "2ec3775f",
   "metadata": {},
   "outputs": [],
   "source": [
    "vectorizer = TfidfVectorizer(min_df=2, tokenizer=tokenize, norm='l2')\n",
    "text_data = vectorizer.fit_transform(text_data_arr)"
   ]
  },
  {
   "cell_type": "markdown",
   "id": "7dbc0cbf",
   "metadata": {},
   "source": [
    "- TF-IDF 값으로 문서단어 행렬을 데이터 프레임 df_tfidf에 입력해 출력"
   ]
  },
  {
   "cell_type": "code",
   "execution_count": 9,
   "id": "f86e15a3",
   "metadata": {},
   "outputs": [
    {
     "data": {
      "text/html": [
       "<div>\n",
       "<style scoped>\n",
       "    .dataframe tbody tr th:only-of-type {\n",
       "        vertical-align: middle;\n",
       "    }\n",
       "\n",
       "    .dataframe tbody tr th {\n",
       "        vertical-align: top;\n",
       "    }\n",
       "\n",
       "    .dataframe thead th {\n",
       "        text-align: right;\n",
       "    }\n",
       "</style>\n",
       "<table border=\"1\" class=\"dataframe\">\n",
       "  <thead>\n",
       "    <tr style=\"text-align: right;\">\n",
       "      <th></th>\n",
       "      <th>가게</th>\n",
       "      <th>가격</th>\n",
       "      <th>가구</th>\n",
       "      <th>가기</th>\n",
       "      <th>가까이</th>\n",
       "      <th>가끔</th>\n",
       "      <th>가능</th>\n",
       "      <th>가능성</th>\n",
       "      <th>가도</th>\n",
       "      <th>가득</th>\n",
       "      <th>...</th>\n",
       "      <th>힘들어하는데</th>\n",
       "      <th>힘들어하더라</th>\n",
       "      <th>힘들어하셔서</th>\n",
       "      <th>힘들었는데</th>\n",
       "      <th>힘들었습니다</th>\n",
       "      <th>힘들었어요</th>\n",
       "      <th>힘들지만</th>\n",
       "      <th>힘듭니다</th>\n",
       "      <th>힘찬</th>\n",
       "      <th>힝</th>\n",
       "    </tr>\n",
       "  </thead>\n",
       "  <tbody>\n",
       "    <tr>\n",
       "      <th>0</th>\n",
       "      <td>0.0</td>\n",
       "      <td>0.0</td>\n",
       "      <td>0.0</td>\n",
       "      <td>0.0</td>\n",
       "      <td>0.0</td>\n",
       "      <td>0.0</td>\n",
       "      <td>0.0</td>\n",
       "      <td>0.0</td>\n",
       "      <td>0.0</td>\n",
       "      <td>0.0</td>\n",
       "      <td>...</td>\n",
       "      <td>0.0</td>\n",
       "      <td>0.0</td>\n",
       "      <td>0.0</td>\n",
       "      <td>0.0</td>\n",
       "      <td>0.0</td>\n",
       "      <td>0.0</td>\n",
       "      <td>0.0</td>\n",
       "      <td>0.0</td>\n",
       "      <td>0.0</td>\n",
       "      <td>0.0</td>\n",
       "    </tr>\n",
       "    <tr>\n",
       "      <th>1</th>\n",
       "      <td>0.0</td>\n",
       "      <td>0.0</td>\n",
       "      <td>0.0</td>\n",
       "      <td>0.0</td>\n",
       "      <td>0.0</td>\n",
       "      <td>0.0</td>\n",
       "      <td>0.0</td>\n",
       "      <td>0.0</td>\n",
       "      <td>0.0</td>\n",
       "      <td>0.0</td>\n",
       "      <td>...</td>\n",
       "      <td>0.0</td>\n",
       "      <td>0.0</td>\n",
       "      <td>0.0</td>\n",
       "      <td>0.0</td>\n",
       "      <td>0.0</td>\n",
       "      <td>0.0</td>\n",
       "      <td>0.0</td>\n",
       "      <td>0.0</td>\n",
       "      <td>0.0</td>\n",
       "      <td>0.0</td>\n",
       "    </tr>\n",
       "    <tr>\n",
       "      <th>2</th>\n",
       "      <td>0.0</td>\n",
       "      <td>0.0</td>\n",
       "      <td>0.0</td>\n",
       "      <td>0.0</td>\n",
       "      <td>0.0</td>\n",
       "      <td>0.0</td>\n",
       "      <td>0.0</td>\n",
       "      <td>0.0</td>\n",
       "      <td>0.0</td>\n",
       "      <td>0.0</td>\n",
       "      <td>...</td>\n",
       "      <td>0.0</td>\n",
       "      <td>0.0</td>\n",
       "      <td>0.0</td>\n",
       "      <td>0.0</td>\n",
       "      <td>0.0</td>\n",
       "      <td>0.0</td>\n",
       "      <td>0.0</td>\n",
       "      <td>0.0</td>\n",
       "      <td>0.0</td>\n",
       "      <td>0.0</td>\n",
       "    </tr>\n",
       "    <tr>\n",
       "      <th>3</th>\n",
       "      <td>0.0</td>\n",
       "      <td>0.0</td>\n",
       "      <td>0.0</td>\n",
       "      <td>0.0</td>\n",
       "      <td>0.0</td>\n",
       "      <td>0.0</td>\n",
       "      <td>0.0</td>\n",
       "      <td>0.0</td>\n",
       "      <td>0.0</td>\n",
       "      <td>0.0</td>\n",
       "      <td>...</td>\n",
       "      <td>0.0</td>\n",
       "      <td>0.0</td>\n",
       "      <td>0.0</td>\n",
       "      <td>0.0</td>\n",
       "      <td>0.0</td>\n",
       "      <td>0.0</td>\n",
       "      <td>0.0</td>\n",
       "      <td>0.0</td>\n",
       "      <td>0.0</td>\n",
       "      <td>0.0</td>\n",
       "    </tr>\n",
       "    <tr>\n",
       "      <th>4</th>\n",
       "      <td>0.0</td>\n",
       "      <td>0.0</td>\n",
       "      <td>0.0</td>\n",
       "      <td>0.0</td>\n",
       "      <td>0.0</td>\n",
       "      <td>0.0</td>\n",
       "      <td>0.0</td>\n",
       "      <td>0.0</td>\n",
       "      <td>0.0</td>\n",
       "      <td>0.0</td>\n",
       "      <td>...</td>\n",
       "      <td>0.0</td>\n",
       "      <td>0.0</td>\n",
       "      <td>0.0</td>\n",
       "      <td>0.0</td>\n",
       "      <td>0.0</td>\n",
       "      <td>0.0</td>\n",
       "      <td>0.0</td>\n",
       "      <td>0.0</td>\n",
       "      <td>0.0</td>\n",
       "      <td>0.0</td>\n",
       "    </tr>\n",
       "  </tbody>\n",
       "</table>\n",
       "<p>5 rows × 2931 columns</p>\n",
       "</div>"
      ],
      "text/plain": [
       "    가게   가격   가구   가기  가까이   가끔   가능  가능성   가도   가득  ...  힘들어하는데  힘들어하더라  \\\n",
       "0  0.0  0.0  0.0  0.0  0.0  0.0  0.0  0.0  0.0  0.0  ...     0.0     0.0   \n",
       "1  0.0  0.0  0.0  0.0  0.0  0.0  0.0  0.0  0.0  0.0  ...     0.0     0.0   \n",
       "2  0.0  0.0  0.0  0.0  0.0  0.0  0.0  0.0  0.0  0.0  ...     0.0     0.0   \n",
       "3  0.0  0.0  0.0  0.0  0.0  0.0  0.0  0.0  0.0  0.0  ...     0.0     0.0   \n",
       "4  0.0  0.0  0.0  0.0  0.0  0.0  0.0  0.0  0.0  0.0  ...     0.0     0.0   \n",
       "\n",
       "   힘들어하셔서  힘들었는데  힘들었습니다  힘들었어요  힘들지만  힘듭니다   힘찬    힝  \n",
       "0     0.0    0.0     0.0    0.0   0.0   0.0  0.0  0.0  \n",
       "1     0.0    0.0     0.0    0.0   0.0   0.0  0.0  0.0  \n",
       "2     0.0    0.0     0.0    0.0   0.0   0.0  0.0  0.0  \n",
       "3     0.0    0.0     0.0    0.0   0.0   0.0  0.0  0.0  \n",
       "4     0.0    0.0     0.0    0.0   0.0   0.0  0.0  0.0  \n",
       "\n",
       "[5 rows x 2931 columns]"
      ]
     },
     "execution_count": 9,
     "metadata": {},
     "output_type": "execute_result"
    }
   ],
   "source": [
    "df_tfidf = pd.DataFrame(text_data.A, columns=vectorizer.get_feature_names_out())\n",
    "df_tfidf.head()"
   ]
  },
  {
   "cell_type": "markdown",
   "id": "b14bfa22",
   "metadata": {},
   "source": [
    "## 1.2 SNS 데이터"
   ]
  },
  {
   "cell_type": "markdown",
   "id": "cc5fb6d4",
   "metadata": {},
   "source": [
    "- %matplotlib inline : 그래프를 구성하고 별도의 명령어 없이 Jupyter Notebook 내에서 그래프를 바로 확인할 수 있도록 inline사용\n",
    "- matplotlib : 그래프를 그리기 위한 시각화도구\n",
    "- Seaborn : matplotllib을 기반으로 더 세련된 시각화를 위한 라이브러리"
   ]
  },
  {
   "cell_type": "code",
   "execution_count": 10,
   "id": "dc656c80",
   "metadata": {},
   "outputs": [],
   "source": [
    "%matplotlib inline\n",
    "import matplotlib.pyplot as plt\n",
    "import seaborn as sns"
   ]
  },
  {
   "cell_type": "markdown",
   "id": "710cdf8d",
   "metadata": {},
   "source": [
    "- 폰트를 관리하는 font_manager, rc 임포트\n",
    "- 맑은고딕 폰트 (malgun)을 폰트로 설정하기 위해 이름을 가져와 변수 font_name에 입력\n",
    "- Rc 함수를 사용해 위에서 지정한 폰트를 사용"
   ]
  },
  {
   "cell_type": "code",
   "execution_count": 11,
   "id": "e1b4c4e9",
   "metadata": {},
   "outputs": [],
   "source": [
    "from matplotlib import font_manager, rc\n",
    "font_name = font_manager.FontProperties(fname=\"c:/Windows/Fonts/malgun.ttf\").get_name()\n",
    "rc('font', family=font_name)"
   ]
  },
  {
   "cell_type": "markdown",
   "id": "499917d2",
   "metadata": {},
   "source": [
    "- SNS분포를 시각화하므로 SNS열을 사용"
   ]
  },
  {
   "cell_type": "code",
   "execution_count": 12,
   "id": "c14a3b28",
   "metadata": {},
   "outputs": [
    {
     "data": {
      "text/plain": [
       "<seaborn.axisgrid.FacetGrid at 0x2ebc86a2310>"
      ]
     },
     "execution_count": 12,
     "metadata": {},
     "output_type": "execute_result"
    },
    {
     "data": {
      "image/png": "[encoded data removed]",
      "text/plain": [
       "<Figure size 360x360 with 1 Axes>"
      ]
     },
     "metadata": {
      "needs_background": "light"
     },
     "output_type": "display_data"
    }
   ],
   "source": [
    "g = sns.catplot(data=df, x='SNS', kind='count', height=5)\n",
    "g.set_xlabels()"
   ]
  },
  {
   "cell_type": "markdown",
   "id": "e734d834",
   "metadata": {},
   "source": [
    "## 1.3 주소 데이터"
   ]
  },
  {
   "cell_type": "markdown",
   "id": "7093c61f",
   "metadata": {},
   "source": [
    "- 주소정보를 시각화하므로 Addr 열을 사용\n",
    "- Xticklabels(rotation=90) : 주소가 길기 때문에 90도 회전시켜서 세로로 보이게 조정함."
   ]
  },
  {
   "cell_type": "code",
   "execution_count": 13,
   "id": "dbbbec56",
   "metadata": {},
   "outputs": [
    {
     "data": {
      "text/plain": [
       "<seaborn.axisgrid.FacetGrid at 0x2ebcf4b5640>"
      ]
     },
     "execution_count": 13,
     "metadata": {},
     "output_type": "execute_result"
    },
    {
     "data": {
      "image/png": "[encoded data removed]",
      "text/plain": [
       "<Figure size 360x360 with 1 Axes>"
      ]
     },
     "metadata": {
      "needs_background": "light"
     },
     "output_type": "display_data"
    }
   ],
   "source": [
    "g = sns.catplot(data=df, x='Addr', kind='count', height=5)\n",
    "g.set_xticklabels(rotation=90)\n",
    "g.set_xlabels()"
   ]
  },
  {
   "cell_type": "markdown",
   "id": "bd9b32fe",
   "metadata": {},
   "source": [
    "## 1.4 점수 데이터"
   ]
  },
  {
   "cell_type": "code",
   "execution_count": 14,
   "id": "2cca9d38",
   "metadata": {},
   "outputs": [
    {
     "data": {
      "text/plain": [
       "<seaborn.axisgrid.FacetGrid at 0x2ebcf454af0>"
      ]
     },
     "execution_count": 14,
     "metadata": {},
     "output_type": "execute_result"
    },
    {
     "data": {
      "image/png": "[encoded data removed]",
      "text/plain": [
       "<Figure size 360x360 with 1 Axes>"
      ]
     },
     "metadata": {
      "needs_background": "light"
     },
     "output_type": "display_data"
    }
   ],
   "source": [
    "g = sns.catplot(data=df, x='Score', kind='count', height=5)\n",
    "g.set_xlabels()"
   ]
  },
  {
   "cell_type": "markdown",
   "id": "69034fa3",
   "metadata": {},
   "source": [
    "- 점수가 없을 경우를 dropna 함수를 사용해 제외\n",
    "- 인덱스를 재부여\n",
    "- 통합된 점수를 입력할 score2 생성"
   ]
  },
  {
   "cell_type": "code",
   "execution_count": 15,
   "id": "6e465ddc",
   "metadata": {},
   "outputs": [],
   "source": [
    "df = df.dropna(subset=['Score'])\n",
    "df.index = range(0,len(df))\n",
    "df['Score2'] = ''"
   ]
  },
  {
   "cell_type": "markdown",
   "id": "47796160",
   "metadata": {},
   "source": [
    "1, 2점은 bad, 3점은 normal, 4, 5점은 good으로 통합"
   ]
  },
  {
   "cell_type": "code",
   "execution_count": 16,
   "id": "80c51d68",
   "metadata": {},
   "outputs": [
    {
     "name": "stderr",
     "output_type": "stream",
     "text": [
      "C:\\Users\\82104\\AppData\\Local\\Temp\\ipykernel_19136\\2493491295.py:5: SettingWithCopyWarning: \n",
      "A value is trying to be set on a copy of a slice from a DataFrame\n",
      "\n",
      "See the caveats in the documentation: https://pandas.pydata.org/pandas-docs/stable/user_guide/indexing.html#returning-a-view-versus-a-copy\n",
      "  df['Score2'][i] = 'good'\n",
      "C:\\Users\\82104\\AppData\\Local\\Temp\\ipykernel_19136\\2493491295.py:3: SettingWithCopyWarning: \n",
      "A value is trying to be set on a copy of a slice from a DataFrame\n",
      "\n",
      "See the caveats in the documentation: https://pandas.pydata.org/pandas-docs/stable/user_guide/indexing.html#returning-a-view-versus-a-copy\n",
      "  df['Score2'][i] = 'bad'\n",
      "C:\\Users\\82104\\AppData\\Local\\Temp\\ipykernel_19136\\2493491295.py:7: SettingWithCopyWarning: \n",
      "A value is trying to be set on a copy of a slice from a DataFrame\n",
      "\n",
      "See the caveats in the documentation: https://pandas.pydata.org/pandas-docs/stable/user_guide/indexing.html#returning-a-view-versus-a-copy\n",
      "  df['Score2'][i] = 'normal'\n"
     ]
    },
    {
     "data": {
      "text/html": [
       "<div>\n",
       "<style scoped>\n",
       "    .dataframe tbody tr th:only-of-type {\n",
       "        vertical-align: middle;\n",
       "    }\n",
       "\n",
       "    .dataframe tbody tr th {\n",
       "        vertical-align: top;\n",
       "    }\n",
       "\n",
       "    .dataframe thead th {\n",
       "        text-align: right;\n",
       "    }\n",
       "</style>\n",
       "<table border=\"1\" class=\"dataframe\">\n",
       "  <thead>\n",
       "    <tr style=\"text-align: right;\">\n",
       "      <th></th>\n",
       "      <th>Score</th>\n",
       "      <th>Review</th>\n",
       "      <th>SNS</th>\n",
       "      <th>Addr</th>\n",
       "      <th>Score2</th>\n",
       "    </tr>\n",
       "  </thead>\n",
       "  <tbody>\n",
       "    <tr>\n",
       "      <th>0</th>\n",
       "      <td>5</td>\n",
       "      <td>안녕하세요.   데일리 신청해 봅니다. 어렸을 적 부터 장이 좋지 않았는데 고기 인...</td>\n",
       "      <td>twitter</td>\n",
       "      <td>경기도</td>\n",
       "      <td>good</td>\n",
       "    </tr>\n",
       "    <tr>\n",
       "      <th>1</th>\n",
       "      <td>2</td>\n",
       "      <td>오!! 안그래도 장이 안좋아서 아침마다 고생이거든요~~  먹고 건강해지고 싶네용 ^^</td>\n",
       "      <td>facebook</td>\n",
       "      <td>서울특별시</td>\n",
       "      <td>bad</td>\n",
       "    </tr>\n",
       "    <tr>\n",
       "      <th>2</th>\n",
       "      <td>2</td>\n",
       "      <td>요즘 장이 안좋은지 하루종일 더부룩하고 배변후에도 시원하지 않네요.꼭 체험해보고싶습니다.</td>\n",
       "      <td>facebook</td>\n",
       "      <td>서울특별시</td>\n",
       "      <td>bad</td>\n",
       "    </tr>\n",
       "    <tr>\n",
       "      <th>3</th>\n",
       "      <td>3</td>\n",
       "      <td>우리 아이가 은가를 동글 동글 염소 똥처럼 눈답니다. 매번 너무 걱정이랍니다. 꼭 ...</td>\n",
       "      <td>facebook</td>\n",
       "      <td>서울특별시</td>\n",
       "      <td>normal</td>\n",
       "    </tr>\n",
       "    <tr>\n",
       "      <th>4</th>\n",
       "      <td>5</td>\n",
       "      <td>이것저것 유산균을 먹어봤지만 이거다~ 하는걸 아직 못만났어요. 장이 예민한 우리 작...</td>\n",
       "      <td>kakaostory</td>\n",
       "      <td>경상남도</td>\n",
       "      <td>good</td>\n",
       "    </tr>\n",
       "  </tbody>\n",
       "</table>\n",
       "</div>"
      ],
      "text/plain": [
       "   Score                                             Review         SNS  \\\n",
       "0      5  안녕하세요.   데일리 신청해 봅니다. 어렸을 적 부터 장이 좋지 않았는데 고기 인...     twitter   \n",
       "1      2    오!! 안그래도 장이 안좋아서 아침마다 고생이거든요~~  먹고 건강해지고 싶네용 ^^    facebook   \n",
       "2      2  요즘 장이 안좋은지 하루종일 더부룩하고 배변후에도 시원하지 않네요.꼭 체험해보고싶습니다.    facebook   \n",
       "3      3  우리 아이가 은가를 동글 동글 염소 똥처럼 눈답니다. 매번 너무 걱정이랍니다. 꼭 ...    facebook   \n",
       "4      5  이것저것 유산균을 먹어봤지만 이거다~ 하는걸 아직 못만났어요. 장이 예민한 우리 작...  kakaostory   \n",
       "\n",
       "    Addr  Score2  \n",
       "0    경기도    good  \n",
       "1  서울특별시     bad  \n",
       "2  서울특별시     bad  \n",
       "3  서울특별시  normal  \n",
       "4   경상남도    good  "
      ]
     },
     "execution_count": 16,
     "metadata": {},
     "output_type": "execute_result"
    }
   ],
   "source": [
    "for i in range(0,len(df)) :\n",
    "    if(df['Score'][i] < 3) :\n",
    "        df['Score2'][i] = 'bad'\n",
    "    elif (df['Score'][i] > 3) :\n",
    "        df['Score2'][i] = 'good'\n",
    "    elif (df['Score'][i] == 3) :\n",
    "        df['Score2'][i] = 'normal'\n",
    "df.head()"
   ]
  },
  {
   "cell_type": "markdown",
   "id": "d9604684",
   "metadata": {},
   "source": [
    "- 새로 부여한 Score2 값을 가지고 시각화"
   ]
  },
  {
   "cell_type": "code",
   "execution_count": 17,
   "id": "de6ad9c5",
   "metadata": {},
   "outputs": [
    {
     "data": {
      "text/plain": [
       "<seaborn.axisgrid.FacetGrid at 0x2ebcfd5cfa0>"
      ]
     },
     "execution_count": 17,
     "metadata": {},
     "output_type": "execute_result"
    },
    {
     "data": {
      "image/png": "[encoded data removed]",
      "text/plain": [
       "<Figure size 360x360 with 1 Axes>"
      ]
     },
     "metadata": {
      "needs_background": "light"
     },
     "output_type": "display_data"
    }
   ],
   "source": [
    "g = sns.catplot(data=df, x='Score2', kind='count', height=5)\n",
    "g.set_xlabels()"
   ]
  },
  {
   "cell_type": "markdown",
   "id": "5808ebc9",
   "metadata": {},
   "source": [
    "- 데이터 셋 저장"
   ]
  },
  {
   "cell_type": "code",
   "execution_count": 18,
   "id": "699c319e",
   "metadata": {},
   "outputs": [],
   "source": [
    "df.to_csv('customer_data(filtered)_generated.csv')"
   ]
  },
  {
   "cell_type": "markdown",
   "id": "a198cbcc",
   "metadata": {},
   "source": [
    "# 2. 분류"
   ]
  },
  {
   "cell_type": "markdown",
   "id": "eba6661c",
   "metadata": {},
   "source": [
    "**데이터 셋 준비**\n",
    "- 고객 텍스트 데이터의 good, normal, bad 여부를 훈련, 분류\n",
    "- 데이터 셋 준비 - 저장한 데이터 셋을 다시 불러옴"
   ]
  },
  {
   "cell_type": "code",
   "execution_count": 19,
   "id": "3b648733",
   "metadata": {},
   "outputs": [
    {
     "data": {
      "text/html": [
       "<div>\n",
       "<style scoped>\n",
       "    .dataframe tbody tr th:only-of-type {\n",
       "        vertical-align: middle;\n",
       "    }\n",
       "\n",
       "    .dataframe tbody tr th {\n",
       "        vertical-align: top;\n",
       "    }\n",
       "\n",
       "    .dataframe thead th {\n",
       "        text-align: right;\n",
       "    }\n",
       "</style>\n",
       "<table border=\"1\" class=\"dataframe\">\n",
       "  <thead>\n",
       "    <tr style=\"text-align: right;\">\n",
       "      <th></th>\n",
       "      <th>Score</th>\n",
       "      <th>Review</th>\n",
       "      <th>SNS</th>\n",
       "      <th>Addr</th>\n",
       "      <th>Score2</th>\n",
       "    </tr>\n",
       "  </thead>\n",
       "  <tbody>\n",
       "    <tr>\n",
       "      <th>0</th>\n",
       "      <td>5</td>\n",
       "      <td>안녕하세요.   데일리 신청해 봅니다. 어렸을 적 부터 장이 좋지 않았는데 고기 인...</td>\n",
       "      <td>twitter</td>\n",
       "      <td>경기도</td>\n",
       "      <td>good</td>\n",
       "    </tr>\n",
       "    <tr>\n",
       "      <th>1</th>\n",
       "      <td>2</td>\n",
       "      <td>오!! 안그래도 장이 안좋아서 아침마다 고생이거든요~~  먹고 건강해지고 싶네용 ^^</td>\n",
       "      <td>facebook</td>\n",
       "      <td>서울특별시</td>\n",
       "      <td>bad</td>\n",
       "    </tr>\n",
       "    <tr>\n",
       "      <th>2</th>\n",
       "      <td>2</td>\n",
       "      <td>요즘 장이 안좋은지 하루종일 더부룩하고 배변후에도 시원하지 않네요.꼭 체험해보고싶습니다.</td>\n",
       "      <td>facebook</td>\n",
       "      <td>서울특별시</td>\n",
       "      <td>bad</td>\n",
       "    </tr>\n",
       "    <tr>\n",
       "      <th>3</th>\n",
       "      <td>3</td>\n",
       "      <td>우리 아이가 은가를 동글 동글 염소 똥처럼 눈답니다. 매번 너무 걱정이랍니다. 꼭 ...</td>\n",
       "      <td>facebook</td>\n",
       "      <td>서울특별시</td>\n",
       "      <td>normal</td>\n",
       "    </tr>\n",
       "    <tr>\n",
       "      <th>4</th>\n",
       "      <td>5</td>\n",
       "      <td>이것저것 유산균을 먹어봤지만 이거다~ 하는걸 아직 못만났어요. 장이 예민한 우리 작...</td>\n",
       "      <td>kakaostory</td>\n",
       "      <td>경상남도</td>\n",
       "      <td>good</td>\n",
       "    </tr>\n",
       "  </tbody>\n",
       "</table>\n",
       "</div>"
      ],
      "text/plain": [
       "   Score                                             Review         SNS  \\\n",
       "0      5  안녕하세요.   데일리 신청해 봅니다. 어렸을 적 부터 장이 좋지 않았는데 고기 인...     twitter   \n",
       "1      2    오!! 안그래도 장이 안좋아서 아침마다 고생이거든요~~  먹고 건강해지고 싶네용 ^^    facebook   \n",
       "2      2  요즘 장이 안좋은지 하루종일 더부룩하고 배변후에도 시원하지 않네요.꼭 체험해보고싶습니다.    facebook   \n",
       "3      3  우리 아이가 은가를 동글 동글 염소 똥처럼 눈답니다. 매번 너무 걱정이랍니다. 꼭 ...    facebook   \n",
       "4      5  이것저것 유산균을 먹어봤지만 이거다~ 하는걸 아직 못만났어요. 장이 예민한 우리 작...  kakaostory   \n",
       "\n",
       "    Addr  Score2  \n",
       "0    경기도    good  \n",
       "1  서울특별시     bad  \n",
       "2  서울특별시     bad  \n",
       "3  서울특별시  normal  \n",
       "4   경상남도    good  "
      ]
     },
     "execution_count": 19,
     "metadata": {},
     "output_type": "execute_result"
    }
   ],
   "source": [
    "df = pd.read_csv('customer_data(filtered)_generated.csv', index_col=0, encoding='utf-8')\n",
    "df.head()"
   ]
  },
  {
   "cell_type": "markdown",
   "id": "e0124d3e",
   "metadata": {},
   "source": [
    "- 데이터 형식을 str로 바꾼 다음 list로 다시 변경"
   ]
  },
  {
   "cell_type": "code",
   "execution_count": 20,
   "id": "8dc06bce",
   "metadata": {},
   "outputs": [],
   "source": [
    "review_data = df['Review'].astype(str).tolist()\n",
    "review_label = df['Score2'].astype(str).tolist()"
   ]
  },
  {
   "cell_type": "markdown",
   "id": "8939cc0f",
   "metadata": {},
   "source": [
    "- 데이터 셋의 80%는 training set으로, 나머지 20%는 test set으로 구성\n",
    "- 기계학습 알고리즘에 적용하기 위해서 np.array() 를 사용해 데이터 형식을 변형\n",
    "- Review_data는 x_train, x_test로 분할 (분할 범위 내의 data를 join함수를 사용해 연결)\n",
    "- Review_label은 y_train, y_test로 분할"
   ]
  },
  {
   "cell_type": "code",
   "execution_count": 21,
   "id": "45ceebad",
   "metadata": {},
   "outputs": [],
   "source": [
    "trainset_size = int(round(len(review_data)*0.80))\n",
    "\n",
    "x_train = np.array([''.join(data) for data in review_data[0:trainset_size]])\n",
    "y_train = np.array([data for data in review_label[0:trainset_size]])\n",
    "\n",
    "x_test = np.array([''.join(data) for data in review_data[trainset_size+1:len(review_data)]])\n",
    "y_test = np.array([data for data in review_label[trainset_size+1:len(review_label)]])"
   ]
  },
  {
   "cell_type": "markdown",
   "id": "3747a4ee",
   "metadata": {},
   "source": [
    "- fit_transform 함수를 사용해서 training set을 기반으로 문서단어행렬 구성\n",
    "- Transform 함수를 사용해서 test_set을 기반으로 문서단어행렬 구성\n",
    "- Fit_transform() 은 fit 함수와 transform 함수의 기능이 합쳐진 함수"
   ]
  },
  {
   "cell_type": "code",
   "execution_count": 22,
   "id": "221d9775",
   "metadata": {},
   "outputs": [],
   "source": [
    "X_train = vectorizer.fit_transform(x_train)\n",
    "X_test = vectorizer.transform(x_test)"
   ]
  },
  {
   "cell_type": "markdown",
   "id": "15f3c658",
   "metadata": {},
   "source": [
    "- 컬럼명이 Classifier, F-Measure, Accuracy인 데이터프레임 df_per 생성"
   ]
  },
  {
   "cell_type": "code",
   "execution_count": 23,
   "id": "94a3a3a3",
   "metadata": {},
   "outputs": [
    {
     "data": {
      "text/html": [
       "<div>\n",
       "<style scoped>\n",
       "    .dataframe tbody tr th:only-of-type {\n",
       "        vertical-align: middle;\n",
       "    }\n",
       "\n",
       "    .dataframe tbody tr th {\n",
       "        vertical-align: top;\n",
       "    }\n",
       "\n",
       "    .dataframe thead th {\n",
       "        text-align: right;\n",
       "    }\n",
       "</style>\n",
       "<table border=\"1\" class=\"dataframe\">\n",
       "  <thead>\n",
       "    <tr style=\"text-align: right;\">\n",
       "      <th></th>\n",
       "      <th>Classifier</th>\n",
       "      <th>F-Measure</th>\n",
       "      <th>Accuracy</th>\n",
       "    </tr>\n",
       "  </thead>\n",
       "  <tbody>\n",
       "  </tbody>\n",
       "</table>\n",
       "</div>"
      ],
      "text/plain": [
       "Empty DataFrame\n",
       "Columns: [Classifier, F-Measure, Accuracy]\n",
       "Index: []"
      ]
     },
     "execution_count": 23,
     "metadata": {},
     "output_type": "execute_result"
    }
   ],
   "source": [
    "df_per = pd.DataFrame(columns=['Classifier', 'F-Measure', 'Accuracy'])\n",
    "df_per"
   ]
  },
  {
   "cell_type": "markdown",
   "id": "5b4e93ea",
   "metadata": {},
   "source": [
    "**성능 평가 패키지 import**\n",
    "- confusion matrix : 분류 결과 건수를 나타내는 confusion matrix를 구성하는 모듈\n",
    "- classification report : recall, precision, f-measure를 제공하는 모듈\n",
    "- f1_score : f measure 값을 계산\n",
    "- accuracy score : accuracy 값을 계산"
   ]
  },
  {
   "cell_type": "code",
   "execution_count": 24,
   "id": "8219baab",
   "metadata": {},
   "outputs": [],
   "source": [
    "from sklearn.metrics import confusion_matrix\n",
    "from sklearn.metrics import classification_report\n",
    "from sklearn.metrics import f1_score\n",
    "from sklearn.metrics import accuracy_score"
   ]
  },
  {
   "cell_type": "markdown",
   "id": "89914bed",
   "metadata": {},
   "source": [
    "**Naive Bayes**\n",
    "- MultinomialNB 패키지를 import\n",
    "- fit 함수를 사용하여 모델 학습\n",
    "- predict 함수를 사용해 예측값 추출 진행\n",
    "- Confusion matrix, classification_report, accuracy score 을 사용한 성능 계산 결과 추출\n",
    "- 실제 값인 y_test와 예측값 nb_pred를 비교해서 각각 출력\n",
    "- Accuracy_score에서의 매개변수 normalize = True를 통해 정확도를 계산하여 출력\n",
    "- False일 경우 올바르게 분류된 데이터 건수를 출력\n",
    "- round 함수를 사용해 소수점 2번째 자리까지 반올림"
   ]
  },
  {
   "cell_type": "code",
   "execution_count": 25,
   "id": "e74d8ca0",
   "metadata": {},
   "outputs": [
    {
     "name": "stdout",
     "output_type": "stream",
     "text": [
      "\n",
      " Confusion Matrix \n",
      "\n",
      "[[  0   0  60]\n",
      " [  0   7  94]\n",
      " [  0   2 410]]\n",
      "\n",
      " Classification Report \n",
      "\n",
      "              precision    recall  f1-score   support\n",
      "\n",
      "         bad       0.00      0.00      0.00        60\n",
      "        good       0.78      0.07      0.13       101\n",
      "      normal       0.73      1.00      0.84       412\n",
      "\n",
      "    accuracy                           0.73       573\n",
      "   macro avg       0.50      0.35      0.32       573\n",
      "weighted avg       0.66      0.73      0.63       573\n",
      "\n",
      "\n",
      " Accuracy \n",
      "\n",
      "0.73\n"
     ]
    },
    {
     "name": "stderr",
     "output_type": "stream",
     "text": [
      "C:\\Users\\82104\\anaconda3\\lib\\site-packages\\sklearn\\metrics\\_classification.py:1318: UndefinedMetricWarning: Precision and F-score are ill-defined and being set to 0.0 in labels with no predicted samples. Use `zero_division` parameter to control this behavior.\n",
      "  _warn_prf(average, modifier, msg_start, len(result))\n",
      "C:\\Users\\82104\\anaconda3\\lib\\site-packages\\sklearn\\metrics\\_classification.py:1318: UndefinedMetricWarning: Precision and F-score are ill-defined and being set to 0.0 in labels with no predicted samples. Use `zero_division` parameter to control this behavior.\n",
      "  _warn_prf(average, modifier, msg_start, len(result))\n",
      "C:\\Users\\82104\\anaconda3\\lib\\site-packages\\sklearn\\metrics\\_classification.py:1318: UndefinedMetricWarning: Precision and F-score are ill-defined and being set to 0.0 in labels with no predicted samples. Use `zero_division` parameter to control this behavior.\n",
      "  _warn_prf(average, modifier, msg_start, len(result))\n"
     ]
    }
   ],
   "source": [
    "from sklearn.naive_bayes import MultinomialNB\n",
    "\n",
    "nb_classifier = MultinomialNB().fit(X_train, y_train)\n",
    "nb_pred = nb_classifier.predict(X_test)\n",
    "\n",
    "print('\\n Confusion Matrix \\n')\n",
    "print(confusion_matrix(y_test, nb_pred))\n",
    "print('\\n Classification Report \\n')\n",
    "print(classification_report(y_test, nb_pred))\n",
    "print('\\n Accuracy \\n')\n",
    "print(round(accuracy_score(y_test, nb_pred, normalize=True),2))"
   ]
  },
  {
   "cell_type": "markdown",
   "id": "5802e946",
   "metadata": {},
   "source": [
    "**성능 저장**\n",
    "- f1_score 함수를 사용해 실제값과 분류 결과값을 비교해 f-measure 계산\n",
    "- average=‘weighted’를 사용해 각 클래스마다 가중치 적용\n",
    "- round 함수를 사용해 소수점 2번째 자리까지 반올림\n",
    "- accuracy_score 함수를 사용해 실제값과 분류 결과값을 비교해 accuracy 계산\n",
    "- normalize=True를 통해 정확도 출력, False일 경우 올바르게 분류된 데이터 건수 출력\n",
    "- round 함수를 사용해 소수점 2번째 자리까지 반올림\n",
    "- loc 함수를 사용해 데이터 프레임에 인덱스를 지정해 입력"
   ]
  },
  {
   "cell_type": "code",
   "execution_count": 26,
   "id": "75e25a07",
   "metadata": {},
   "outputs": [
    {
     "data": {
      "text/html": [
       "<div>\n",
       "<style scoped>\n",
       "    .dataframe tbody tr th:only-of-type {\n",
       "        vertical-align: middle;\n",
       "    }\n",
       "\n",
       "    .dataframe tbody tr th {\n",
       "        vertical-align: top;\n",
       "    }\n",
       "\n",
       "    .dataframe thead th {\n",
       "        text-align: right;\n",
       "    }\n",
       "</style>\n",
       "<table border=\"1\" class=\"dataframe\">\n",
       "  <thead>\n",
       "    <tr style=\"text-align: right;\">\n",
       "      <th></th>\n",
       "      <th>Classifier</th>\n",
       "      <th>F-Measure</th>\n",
       "      <th>Accuracy</th>\n",
       "    </tr>\n",
       "  </thead>\n",
       "  <tbody>\n",
       "    <tr>\n",
       "      <th>0</th>\n",
       "      <td>Naive Bayes</td>\n",
       "      <td>0.63</td>\n",
       "      <td>0.73</td>\n",
       "    </tr>\n",
       "  </tbody>\n",
       "</table>\n",
       "</div>"
      ],
      "text/plain": [
       "    Classifier  F-Measure  Accuracy\n",
       "0  Naive Bayes       0.63      0.73"
      ]
     },
     "execution_count": 26,
     "metadata": {},
     "output_type": "execute_result"
    }
   ],
   "source": [
    "fm = round(f1_score(y_test, nb_pred, average='weighted'), 2)\n",
    "ac = round(accuracy_score(y_test, nb_pred, normalize=True), 2)\n",
    "df_per.loc[len(df_per)] = ['Naive Bayes', fm, ac]\n",
    "df_per"
   ]
  },
  {
   "cell_type": "markdown",
   "id": "47be4630",
   "metadata": {},
   "source": [
    "**Decision Tree**\n",
    "- DecisionTreeClassifier 패키지를 import\n",
    "- DecisionTreeClassifier 모듈을 사용해 decision tree 알고리즘으로 모델을 생성\n",
    "- Fit 함수를 사용해 모델 dt_classifier 훈련\n",
    "- predict 함수를 사용해 예측값 추출 진행\n",
    "- Confusion matrix, classification_report, accuracy score 을 사용한 성능 계산 결과 추출\n",
    "- 실제 값인 y_test와 예측값 dt_pred를 비교해서 각각 출력\n",
    "- Accuracy_score에서의 매개변수 normalize = True를 통해 정확도를 계산하여 출력\n",
    "- False일 경우 올바르게 분류된 데이터 건수를 출력\n",
    "- round 함수를 사용해 소수점 2번째 자리까지 반올림"
   ]
  },
  {
   "cell_type": "code",
   "execution_count": 27,
   "id": "7c917a5f",
   "metadata": {},
   "outputs": [
    {
     "name": "stdout",
     "output_type": "stream",
     "text": [
      "\n",
      " Confusion Matrix \n",
      "\n",
      "[[ 36   0  24]\n",
      " [  0  58  43]\n",
      " [ 35  53 324]]\n",
      "\n",
      " Classification Report \n",
      "\n",
      "              precision    recall  f1-score   support\n",
      "\n",
      "         bad       0.51      0.60      0.55        60\n",
      "        good       0.52      0.57      0.55       101\n",
      "      normal       0.83      0.79      0.81       412\n",
      "\n",
      "    accuracy                           0.73       573\n",
      "   macro avg       0.62      0.65      0.63       573\n",
      "weighted avg       0.74      0.73      0.73       573\n",
      "\n",
      "\n",
      " Accuracy \n",
      "\n",
      "0.73\n"
     ]
    }
   ],
   "source": [
    "from sklearn.tree import DecisionTreeClassifier\n",
    "\n",
    "dt_classifier = DecisionTreeClassifier().fit(X_train, y_train)\n",
    "dt_pred = dt_classifier.predict(X_test)\n",
    "\n",
    "print('\\n Confusion Matrix \\n')\n",
    "print(confusion_matrix(y_test, dt_pred))\n",
    "print('\\n Classification Report \\n')\n",
    "print(classification_report(y_test, dt_pred))\n",
    "print('\\n Accuracy \\n')\n",
    "print(round(accuracy_score(y_test, dt_pred, normalize=True),2))"
   ]
  },
  {
   "cell_type": "markdown",
   "id": "9bf29d7a",
   "metadata": {},
   "source": [
    "**성능 저장**"
   ]
  },
  {
   "cell_type": "code",
   "execution_count": 28,
   "id": "df246092",
   "metadata": {},
   "outputs": [
    {
     "data": {
      "text/html": [
       "<div>\n",
       "<style scoped>\n",
       "    .dataframe tbody tr th:only-of-type {\n",
       "        vertical-align: middle;\n",
       "    }\n",
       "\n",
       "    .dataframe tbody tr th {\n",
       "        vertical-align: top;\n",
       "    }\n",
       "\n",
       "    .dataframe thead th {\n",
       "        text-align: right;\n",
       "    }\n",
       "</style>\n",
       "<table border=\"1\" class=\"dataframe\">\n",
       "  <thead>\n",
       "    <tr style=\"text-align: right;\">\n",
       "      <th></th>\n",
       "      <th>Classifier</th>\n",
       "      <th>F-Measure</th>\n",
       "      <th>Accuracy</th>\n",
       "    </tr>\n",
       "  </thead>\n",
       "  <tbody>\n",
       "    <tr>\n",
       "      <th>0</th>\n",
       "      <td>Naive Bayes</td>\n",
       "      <td>0.63</td>\n",
       "      <td>0.73</td>\n",
       "    </tr>\n",
       "    <tr>\n",
       "      <th>1</th>\n",
       "      <td>Decison Tree</td>\n",
       "      <td>0.73</td>\n",
       "      <td>0.73</td>\n",
       "    </tr>\n",
       "  </tbody>\n",
       "</table>\n",
       "</div>"
      ],
      "text/plain": [
       "     Classifier  F-Measure  Accuracy\n",
       "0   Naive Bayes       0.63      0.73\n",
       "1  Decison Tree       0.73      0.73"
      ]
     },
     "execution_count": 28,
     "metadata": {},
     "output_type": "execute_result"
    }
   ],
   "source": [
    "fm = round(f1_score(y_test, dt_pred, average='weighted'), 2)\n",
    "ac = round(accuracy_score(y_test, dt_pred, normalize=True), 2)\n",
    "df_per.loc[len(df_per)] = ['Decison Tree', fm, ac]\n",
    "df_per"
   ]
  },
  {
   "cell_type": "markdown",
   "id": "1ab15b55",
   "metadata": {},
   "source": [
    "**Random Forest**\n",
    "- RandomForestClassifier 패키지를 import\n",
    "- RandomForestClassifier 모듈을 사용해 random forest 알고리즘으로 모델을 생성\n",
    "- Fit 함수를 사용해 모델 rf_classifier 훈련\n",
    "- predict 함수를 사용해 예측값 추출 진행\n",
    "- Confusion matrix, classification_report, accuracy score 을 사용한 성능 계산 결과 추출\n",
    "- 실제 값인 y_test와 예측값 dt_pred를 비교해서 각각 출력\n",
    "- Accuracy_score에서의 매개변수 normalize = True를 통해 정확도를 계산하여 출력\n",
    "- False일 경우 올바르게 분류된 데이터 건수를 출력round 함수를 사용해 소수점 2번째 자리까지 반올림"
   ]
  },
  {
   "cell_type": "code",
   "execution_count": 29,
   "id": "b76cad88",
   "metadata": {},
   "outputs": [
    {
     "name": "stdout",
     "output_type": "stream",
     "text": [
      "\n",
      " Confusion Matrix \n",
      "\n",
      "[[ 48   0  12]\n",
      " [  0  54  47]\n",
      " [ 25   3 384]]\n",
      "\n",
      " Classification Report \n",
      "\n",
      "              precision    recall  f1-score   support\n",
      "\n",
      "         bad       0.66      0.80      0.72        60\n",
      "        good       0.95      0.53      0.68       101\n",
      "      normal       0.87      0.93      0.90       412\n",
      "\n",
      "    accuracy                           0.85       573\n",
      "   macro avg       0.82      0.76      0.77       573\n",
      "weighted avg       0.86      0.85      0.84       573\n",
      "\n",
      "\n",
      " Accuracy \n",
      "\n",
      "0.85\n"
     ]
    }
   ],
   "source": [
    "from sklearn.ensemble import RandomForestClassifier\n",
    "\n",
    "rf_classifier = RandomForestClassifier(n_estimators=100)\n",
    "rf_classifier.fit(X_train, y_train)\n",
    "rf_pred = rf_classifier.predict(X_test)\n",
    "\n",
    "print('\\n Confusion Matrix \\n')\n",
    "print(confusion_matrix(y_test, rf_pred))\n",
    "print('\\n Classification Report \\n')\n",
    "print(classification_report(y_test, rf_pred))\n",
    "print('\\n Accuracy \\n')\n",
    "print(round(accuracy_score(y_test, rf_pred, normalize=True),2))"
   ]
  },
  {
   "cell_type": "markdown",
   "id": "c1b9e206",
   "metadata": {},
   "source": [
    "**성능 저장**"
   ]
  },
  {
   "cell_type": "code",
   "execution_count": 30,
   "id": "19c9ee46",
   "metadata": {},
   "outputs": [
    {
     "data": {
      "text/html": [
       "<div>\n",
       "<style scoped>\n",
       "    .dataframe tbody tr th:only-of-type {\n",
       "        vertical-align: middle;\n",
       "    }\n",
       "\n",
       "    .dataframe tbody tr th {\n",
       "        vertical-align: top;\n",
       "    }\n",
       "\n",
       "    .dataframe thead th {\n",
       "        text-align: right;\n",
       "    }\n",
       "</style>\n",
       "<table border=\"1\" class=\"dataframe\">\n",
       "  <thead>\n",
       "    <tr style=\"text-align: right;\">\n",
       "      <th></th>\n",
       "      <th>Classifier</th>\n",
       "      <th>F-Measure</th>\n",
       "      <th>Accuracy</th>\n",
       "    </tr>\n",
       "  </thead>\n",
       "  <tbody>\n",
       "    <tr>\n",
       "      <th>0</th>\n",
       "      <td>Naive Bayes</td>\n",
       "      <td>0.63</td>\n",
       "      <td>0.73</td>\n",
       "    </tr>\n",
       "    <tr>\n",
       "      <th>1</th>\n",
       "      <td>Decison Tree</td>\n",
       "      <td>0.73</td>\n",
       "      <td>0.73</td>\n",
       "    </tr>\n",
       "    <tr>\n",
       "      <th>2</th>\n",
       "      <td>Random Forest</td>\n",
       "      <td>0.84</td>\n",
       "      <td>0.85</td>\n",
       "    </tr>\n",
       "  </tbody>\n",
       "</table>\n",
       "</div>"
      ],
      "text/plain": [
       "      Classifier  F-Measure  Accuracy\n",
       "0    Naive Bayes       0.63      0.73\n",
       "1   Decison Tree       0.73      0.73\n",
       "2  Random Forest       0.84      0.85"
      ]
     },
     "execution_count": 30,
     "metadata": {},
     "output_type": "execute_result"
    }
   ],
   "source": [
    "fm = round(f1_score(y_test, rf_pred, average='weighted'), 2)\n",
    "ac = round(accuracy_score(y_test, rf_pred, normalize=True), 2)\n",
    "df_per.loc[len(df_per)] = ['Random Forest', fm, ac]\n",
    "df_per"
   ]
  },
  {
   "cell_type": "markdown",
   "id": "205cb184",
   "metadata": {},
   "source": [
    "**SVM**\n",
    "- LinearSVC 패키지를 import\n",
    "- LinearSVC 모듈을 사용해 svm 알고리즘으로 모델을 생성\n",
    "- Fit 함수를 사용해 모델 svm_classifier 훈련\n",
    "- predict 함수를 사용해 예측값 추출 진행\n",
    "- Confusion matrix, classification_report, accuracy score 을 사용한 성능 계산 결과 추출\n",
    "- 실제 값인 y_test와 예측값 dt_pred를 비교해서 각각 출력\n",
    "- Accuracy_score에서의 매개변수 normalize = True를 통해 정확도를 계산하여 출력\n",
    "- False일 경우 올바르게 분류된 데이터 건수를 출력\n",
    "- round 함수를 사용해 소수점 2번째 자리까지 반올림"
   ]
  },
  {
   "cell_type": "code",
   "execution_count": 31,
   "id": "a0cfca75",
   "metadata": {},
   "outputs": [
    {
     "name": "stdout",
     "output_type": "stream",
     "text": [
      "\n",
      " Confusion Matrix \n",
      "\n",
      "[[ 38   0  22]\n",
      " [  0  62  39]\n",
      " [ 43  45 324]]\n",
      "\n",
      " Classification Report \n",
      "\n",
      "              precision    recall  f1-score   support\n",
      "\n",
      "         bad       0.47      0.63      0.54        60\n",
      "        good       0.58      0.61      0.60       101\n",
      "      normal       0.84      0.79      0.81       412\n",
      "\n",
      "    accuracy                           0.74       573\n",
      "   macro avg       0.63      0.68      0.65       573\n",
      "weighted avg       0.76      0.74      0.75       573\n",
      "\n",
      "\n",
      " Accuracy \n",
      "\n",
      "0.74\n"
     ]
    }
   ],
   "source": [
    "from sklearn.svm import LinearSVC\n",
    "\n",
    "svm_classifier = LinearSVC().fit(X_train, y_train)\n",
    "svm_pred = svm_classifier.predict(X_test)\n",
    "\n",
    "print('\\n Confusion Matrix \\n')\n",
    "print(confusion_matrix(y_test, svm_pred))\n",
    "print('\\n Classification Report \\n')\n",
    "print(classification_report(y_test, svm_pred))\n",
    "print('\\n Accuracy \\n')\n",
    "print(round(accuracy_score(y_test, svm_pred, normalize=True),2))"
   ]
  },
  {
   "cell_type": "markdown",
   "id": "c09e66f7",
   "metadata": {},
   "source": [
    "**성능 저장**"
   ]
  },
  {
   "cell_type": "code",
   "execution_count": 32,
   "id": "d8a70997",
   "metadata": {},
   "outputs": [
    {
     "data": {
      "text/html": [
       "<div>\n",
       "<style scoped>\n",
       "    .dataframe tbody tr th:only-of-type {\n",
       "        vertical-align: middle;\n",
       "    }\n",
       "\n",
       "    .dataframe tbody tr th {\n",
       "        vertical-align: top;\n",
       "    }\n",
       "\n",
       "    .dataframe thead th {\n",
       "        text-align: right;\n",
       "    }\n",
       "</style>\n",
       "<table border=\"1\" class=\"dataframe\">\n",
       "  <thead>\n",
       "    <tr style=\"text-align: right;\">\n",
       "      <th></th>\n",
       "      <th>Classifier</th>\n",
       "      <th>F-Measure</th>\n",
       "      <th>Accuracy</th>\n",
       "    </tr>\n",
       "  </thead>\n",
       "  <tbody>\n",
       "    <tr>\n",
       "      <th>0</th>\n",
       "      <td>Naive Bayes</td>\n",
       "      <td>0.63</td>\n",
       "      <td>0.73</td>\n",
       "    </tr>\n",
       "    <tr>\n",
       "      <th>1</th>\n",
       "      <td>Decison Tree</td>\n",
       "      <td>0.73</td>\n",
       "      <td>0.73</td>\n",
       "    </tr>\n",
       "    <tr>\n",
       "      <th>2</th>\n",
       "      <td>Random Forest</td>\n",
       "      <td>0.84</td>\n",
       "      <td>0.85</td>\n",
       "    </tr>\n",
       "    <tr>\n",
       "      <th>3</th>\n",
       "      <td>Support Vector Machine</td>\n",
       "      <td>0.75</td>\n",
       "      <td>0.74</td>\n",
       "    </tr>\n",
       "  </tbody>\n",
       "</table>\n",
       "</div>"
      ],
      "text/plain": [
       "               Classifier  F-Measure  Accuracy\n",
       "0             Naive Bayes       0.63      0.73\n",
       "1            Decison Tree       0.73      0.73\n",
       "2           Random Forest       0.84      0.85\n",
       "3  Support Vector Machine       0.75      0.74"
      ]
     },
     "execution_count": 32,
     "metadata": {},
     "output_type": "execute_result"
    }
   ],
   "source": [
    "fm = round(f1_score(y_test, svm_pred, average='weighted'), 2)\n",
    "ac = round(accuracy_score(y_test, svm_pred, normalize=True), 2)\n",
    "df_per.loc[len(df_per)] = ['Support Vector Machine', fm, ac]\n",
    "df_per"
   ]
  },
  {
   "cell_type": "markdown",
   "id": "584ad297",
   "metadata": {},
   "source": [
    "**성능 비교**\n",
    "- 시각화를 위해 분류기 명을 set_index 함수를 사용해 index로 설정"
   ]
  },
  {
   "cell_type": "code",
   "execution_count": 33,
   "id": "3bca461a",
   "metadata": {},
   "outputs": [
    {
     "data": {
      "text/html": [
       "<div>\n",
       "<style scoped>\n",
       "    .dataframe tbody tr th:only-of-type {\n",
       "        vertical-align: middle;\n",
       "    }\n",
       "\n",
       "    .dataframe tbody tr th {\n",
       "        vertical-align: top;\n",
       "    }\n",
       "\n",
       "    .dataframe thead th {\n",
       "        text-align: right;\n",
       "    }\n",
       "</style>\n",
       "<table border=\"1\" class=\"dataframe\">\n",
       "  <thead>\n",
       "    <tr style=\"text-align: right;\">\n",
       "      <th></th>\n",
       "      <th>F-Measure</th>\n",
       "      <th>Accuracy</th>\n",
       "    </tr>\n",
       "    <tr>\n",
       "      <th>Classifier</th>\n",
       "      <th></th>\n",
       "      <th></th>\n",
       "    </tr>\n",
       "  </thead>\n",
       "  <tbody>\n",
       "    <tr>\n",
       "      <th>Naive Bayes</th>\n",
       "      <td>0.63</td>\n",
       "      <td>0.73</td>\n",
       "    </tr>\n",
       "    <tr>\n",
       "      <th>Decison Tree</th>\n",
       "      <td>0.73</td>\n",
       "      <td>0.73</td>\n",
       "    </tr>\n",
       "    <tr>\n",
       "      <th>Random Forest</th>\n",
       "      <td>0.84</td>\n",
       "      <td>0.85</td>\n",
       "    </tr>\n",
       "    <tr>\n",
       "      <th>Support Vector Machine</th>\n",
       "      <td>0.75</td>\n",
       "      <td>0.74</td>\n",
       "    </tr>\n",
       "  </tbody>\n",
       "</table>\n",
       "</div>"
      ],
      "text/plain": [
       "                        F-Measure  Accuracy\n",
       "Classifier                                 \n",
       "Naive Bayes                  0.63      0.73\n",
       "Decison Tree                 0.73      0.73\n",
       "Random Forest                0.84      0.85\n",
       "Support Vector Machine       0.75      0.74"
      ]
     },
     "execution_count": 33,
     "metadata": {},
     "output_type": "execute_result"
    }
   ],
   "source": [
    "df_per_1 = df_per.set_index('Classifier')\n",
    "df_per_1"
   ]
  },
  {
   "cell_type": "markdown",
   "id": "257e625c",
   "metadata": {},
   "source": [
    "- F-measure과 Accuracy 값을 plot 함수를 사용해 시각화\n",
    "- kind=‘bar’ : 막대 그래프\n",
    "- title=‘preformance’ : 그래프 제목\n",
    "- figsize : 그래프 크기 지정\n",
    "- legend : 데이터 설명\n",
    "- fontsize : 글씨 크기\n",
    "- 그래프의 x축을 분류기 명으로 지정\n",
    "- 그래프 그리기"
   ]
  },
  {
   "cell_type": "code",
   "execution_count": 34,
   "id": "34a604f6",
   "metadata": {},
   "outputs": [
    {
     "data": {
      "image/png": "[encoded data removed]",
      "text/plain": [
       "<Figure size 720x504 with 1 Axes>"
      ]
     },
     "metadata": {
      "needs_background": "light"
     },
     "output_type": "display_data"
    }
   ],
   "source": [
    "ax = df_per_1[['F-Measure','Accuracy']].plot(kind='bar', title ='Performance'\n",
    "                                             , figsize=(10, 7), legend=True, fontsize=12)\n",
    "ax.set_xlabel('Classifier', fontsize=12)\n",
    "plt.show()"
   ]
  },
  {
   "cell_type": "code",
   "execution_count": null,
   "id": "46e86891",
   "metadata": {},
   "outputs": [],
   "source": []
  }
 ],
 "metadata": {
  "kernelspec": {
   "display_name": "Python 3 (ipykernel)",
   "language": "python",
   "name": "python3"
  },
  "language_info": {
   "codemirror_mode": {
    "name": "ipython",
    "version": 3
   },
   "file_extension": ".py",
   "mimetype": "text/x-python",
   "name": "python",
   "nbconvert_exporter": "python",
   "pygments_lexer": "ipython3",
   "version": "3.8.12"
  }
 },
 "nbformat": 4,
 "nbformat_minor": 5
}
