{
 "cells": [
  {
   "cell_type": "code",
   "execution_count": 1,
   "id": "a4dae088",
   "metadata": {},
   "outputs": [],
   "source": [
    "import numpy as np\n",
    "import pandas as pd\n",
    "import matplotlib.pyplot as plt\n",
    "%matplotlib inline\n",
    "from sklearn import linear_model\n",
    "from sklearn import datasets\n",
    "from sklearn.metrics import mean_squared_error"
   ]
  },
  {
   "cell_type": "code",
   "execution_count": 4,
   "id": "d799f016",
   "metadata": {},
   "outputs": [],
   "source": [
    "diabetes_data = datasets.load_diabetes()\n",
    "X = pd.DataFrame(diabetes_data.data)\n",
    "y = diabetes_data.target"
   ]
  },
  {
   "cell_type": "code",
   "execution_count": 11,
   "id": "c73855e8",
   "metadata": {
    "scrolled": true
   },
   "outputs": [
    {
     "name": "stdout",
     "output_type": "stream",
     "text": [
      "a value = 152.1334841628965\n",
      "b value = [ -10.01219782 -239.81908937  519.83978679  324.39042769 -792.18416163\n",
      "  476.74583782  101.04457032  177.06417623  751.27932109   67.62538639]\n"
     ]
    }
   ],
   "source": [
    "linear_regression = linear_model.LinearRegression()\n",
    "linear_regression.fit(X=pd.X, y=y)\n",
    "prediction = linear_regression.predict(X = X)\n",
    "print('a value =', linear_regression.intercept_)\n",
    "print('b value =', linear_regression.coef_)"
   ]
  },
  {
   "cell_type": "code",
   "execution_count": 13,
   "id": "976145a1",
   "metadata": {},
   "outputs": [
    {
     "name": "stdout",
     "output_type": "stream",
     "text": [
      "R_squared = 0.5177494254132934\n"
     ]
    }
   ],
   "source": [
    "residuals = y - prediction\n",
    "SSE = (residuals**2).sum()\n",
    "SST = ((y - y.mean())**2).sum()\n",
    "R_squared = 1 - (SSE/SST)\n",
    "print('R_squared =', R_squared)"
   ]
  },
  {
   "cell_type": "code",
   "execution_count": 15,
   "id": "a8248512",
   "metadata": {},
   "outputs": [
    {
     "name": "stdout",
     "output_type": "stream",
     "text": [
      "score = 0.5177494254132934\n",
      "Mean_Squared_Error = 2859.6903987680657\n",
      "RMSE = 53.47607314274362\n"
     ]
    }
   ],
   "source": [
    "print('score =', linear_regression.score(X=X, y=y))\n",
    "print('Mean_Squared_Error =', mean_squared_error(prediction, y))\n",
    "print('RMSE =', mean_squared_error(prediction, y)**0.5)"
   ]
  },
  {
   "cell_type": "code",
   "execution_count": null,
   "id": "578daed6",
   "metadata": {},
   "outputs": [],
   "source": []
  }
 ],
 "metadata": {
  "kernelspec": {
   "display_name": "Python 3 (ipykernel)",
   "language": "python",
   "name": "python3"
  },
  "language_info": {
   "codemirror_mode": {
    "name": "ipython",
    "version": 3
   },
   "file_extension": ".py",
   "mimetype": "text/x-python",
   "name": "python",
   "nbconvert_exporter": "python",
   "pygments_lexer": "ipython3",
   "version": "3.8.12"
  }
 },
 "nbformat": 4,
 "nbformat_minor": 5
}
