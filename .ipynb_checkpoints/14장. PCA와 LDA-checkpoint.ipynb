{
 "cells": [
  {
   "cell_type": "markdown",
   "id": "19183a24",
   "metadata": {},
   "source": [
    "## 필요 패키지 import\n",
    "- %matplotlib inline : jupyter 화면 안에서 그래프 시각화 결과물을 확인하기 위한 설정  \n",
    "- matplotlib.pyplot : pyplot은 데이터 시각화를 제공하는 패키지  \n",
    "- seaborn : seaborn에서 제공하는 시각화 효과를 사용하기 위한 패키지  \n",
    "- datasets : datasets를 통해 scikit learn이 제공하는 데이터 셋을 사용가능  \n",
    "- PCA : PCA를 실행하기 위한 패키지  \n",
    "- LinearDiscriminantAnalysis : LDA를 실행하기 위한 패키지 \n",
    "- train_test_split : train set과 test set으로 데이터 셋을 분리하기 위한 패키지  \n",
    "- RandomForestClassifier : Random Forest 분류기를 사용하기 위한 패키지  \n",
    "- confusion_matrix : 성능 평가시 confusion matrix를 확인하기 위한 패키지  \n",
    "- classification_report : 클래스별 성능을 확인하기 위한 패키지  \n",
    "- f1_score : 모델의 f-measure을 확인하기 위한 패키지  \n",
    "- accuracy_score : 모델의 accuracy를 확인하기 위한 패키지  \n",
    "- time : 모델의 속도를 측정하기 위한 패키지  \n",
    "- pandas : 데이터 프레임을 사용하기 위한 패키지  "
   ]
  },
  {
   "cell_type": "code",
   "execution_count": 1,
   "id": "46c42067",
   "metadata": {},
   "outputs": [],
   "source": [
    "import numpy as np\n",
    "import pandas as pd\n",
    "import matplotlib.pyplot as plt\n",
    "import seaborn as sns\n",
    "%matplotlib inline\n",
    "sns.set()\n",
    "\n",
    "import time\n",
    "from sklearn import datasets\n",
    "from sklearn.decomposition import PCA\n",
    "from sklearn.discriminant_analysis import LinearDiscriminantAnalysis\n",
    "from sklearn.model_selection import train_test_split\n",
    "\n",
    "from sklearn.ensemble import RandomForestClassifier\n",
    "\n",
    "from sklearn.metrics import confusion_matrix, classification_report, f1_score, accuracy_score"
   ]
  },
  {
   "cell_type": "markdown",
   "id": "c497fd65",
   "metadata": {},
   "source": [
    "## 데이터 셋 준비\n",
    "- scikit learn에서 제공하는 toy data 중 붓꽃 데이터를 load_iris 함수를 사용해 로드하고, 변수 data에 저장\n",
    "- len 함수를 사용해 속성의 개수를 확인\n",
    "- feature_names : 속성들의 종류를 확인\n",
    "- target_names : 클래스 종류를 확인"
   ]
  },
  {
   "cell_type": "code",
   "execution_count": 2,
   "id": "08f15c6e",
   "metadata": {},
   "outputs": [
    {
     "name": "stdout",
     "output_type": "stream",
     "text": [
      "4\n",
      "['sepal length (cm)', 'sepal width (cm)', 'petal length (cm)', 'petal width (cm)']\n",
      "3\n",
      "['setosa' 'versicolor' 'virginica']\n"
     ]
    }
   ],
   "source": [
    "data = datasets.load_iris()\n",
    "print(len(data.feature_names))\n",
    "print(data.feature_names)\n",
    "print(len(data.target_names))\n",
    "print(data.target_names)"
   ]
  },
  {
   "cell_type": "markdown",
   "id": "b84560de",
   "metadata": {},
   "source": [
    "## 성능 기록 준비\n",
    "- 컬럼이 Data Set, F-Measure, Accuracy, Speed (sec) 로 이루어진 데이터 프레임 df_per을 생성해 성능을 기록할 준비"
   ]
  },
  {
   "cell_type": "code",
   "execution_count": 3,
   "id": "c7f93f82",
   "metadata": {},
   "outputs": [
    {
     "data": {
      "text/html": [
       "<div>\n",
       "<style scoped>\n",
       "    .dataframe tbody tr th:only-of-type {\n",
       "        vertical-align: middle;\n",
       "    }\n",
       "\n",
       "    .dataframe tbody tr th {\n",
       "        vertical-align: top;\n",
       "    }\n",
       "\n",
       "    .dataframe thead th {\n",
       "        text-align: right;\n",
       "    }\n",
       "</style>\n",
       "<table border=\"1\" class=\"dataframe\">\n",
       "  <thead>\n",
       "    <tr style=\"text-align: right;\">\n",
       "      <th></th>\n",
       "      <th>Data Set</th>\n",
       "      <th>F-Measure</th>\n",
       "      <th>Accuracy</th>\n",
       "      <th>Speed (sec)</th>\n",
       "    </tr>\n",
       "  </thead>\n",
       "  <tbody>\n",
       "  </tbody>\n",
       "</table>\n",
       "</div>"
      ],
      "text/plain": [
       "Empty DataFrame\n",
       "Columns: [Data Set, F-Measure, Accuracy, Speed (sec)]\n",
       "Index: []"
      ]
     },
     "execution_count": 3,
     "metadata": {},
     "output_type": "execute_result"
    }
   ],
   "source": [
    "df_per = pd.DataFrame(columns=['Data Set', 'F-Measure', 'Accuracy', 'Speed (sec)'])\n",
    "df_per"
   ]
  },
  {
   "cell_type": "markdown",
   "id": "7339d5f3",
   "metadata": {},
   "source": [
    "# 1. 원본 데이터 살펴보기\n",
    "## 1.1 데이터 셋 준비\n",
    "- 데이터의 속성 중 첫 번째, 두 번째 속성 두 가지만 선택해 변수 x에 저장\n",
    "- 즉, sepal length와 sepal width가 저장\n",
    "- 종(setosa, versicolor, virginica)을 나타내는 클래스 정보를 target 함수를 사용해 가져와 변수 y에 저장\n",
    "- 클래스 정보를 변수 target_names에 저장"
   ]
  },
  {
   "cell_type": "code",
   "execution_count": 4,
   "id": "f06780c6",
   "metadata": {},
   "outputs": [
    {
     "data": {
      "text/plain": [
       "array(['setosa', 'versicolor', 'virginica'], dtype='<U10')"
      ]
     },
     "execution_count": 4,
     "metadata": {},
     "output_type": "execute_result"
    }
   ],
   "source": [
    "x = data.data[:, :2] \n",
    "y = data.target\n",
    "target_names = data.target_names\n",
    "target_names"
   ]
  },
  {
   "cell_type": "markdown",
   "id": "4ffde50b",
   "metadata": {},
   "source": [
    "## 1.2 산포도 그리기\n",
    "- 산포도를 그리기 위한 figure의 크기를 설정\n",
    "- 클래스마다 색상을 다르게 표시하기 위해 색상을 붉은색과 푸른색으로 설정\n",
    "- for문을 사용해 데이터를 산포도에 그림\n",
    "- 색상[red,blue]과, 클래스[0,1], 클래스 이름[setosa,versicolor]을 내장함수 zip으로 묶음\n",
    "- zip함수를 사용하면 동일한 개수로 이루어진 자료형을 묶을 수 있음\n",
    "- 각 색상, 클래스, 클래스 이름에 대한 데이터를 하나씩 산포도로 그림\n",
    "- scatter 함수를 사용해 속성 x의 클래스 y가 i 즉, 0 또는 1인지 확인 후,\n",
    "- x의 0번 속성을 x축 값, 1번 속성을 y축 값으로 지정하고\n",
    "- 해당 클래스 인덱스에 해당하는 색상으로 표시하고\n",
    "- 라벨을 클래스 이름으로 설정\n",
    "- legend 함수를 사용해 도표 설명(legend)을 표시\n",
    "- xlabel 함수를 사용해 x축 이름 sepal length (cm)를 표시\n",
    "- ylabel 함수를 사용해 y축 이름 sepal width (cm)를 표시\n",
    "- show 함수를 사용해 산포도 시각화"
   ]
  },
  {
   "cell_type": "code",
   "execution_count": 5,
   "id": "11a88039",
   "metadata": {},
   "outputs": [
    {
     "data": {
      "image/png": "[encoded data removed]",
      "text/plain": [
       "<Figure size 720x720 with 1 Axes>"
      ]
     },
     "metadata": {},
     "output_type": "display_data"
    }
   ],
   "source": [
    "plt.figure(figsize=(10, 10))\n",
    "colors = ['red', 'blue']\n",
    "\n",
    "for color, i, target_name in zip(colors, [0, 1], target_names):\n",
    "    plt.scatter(x[y == i, 0], x[y == i, 1], color=color, label=target_name)\n",
    "\n",
    "plt.legend()\n",
    "plt.xlabel('sepal length (cm)')\n",
    "plt.ylabel('sepal width (cm)')\n",
    "plt.show()"
   ]
  },
  {
   "cell_type": "markdown",
   "id": "05c5cad0",
   "metadata": {},
   "source": [
    "## 1.3 분류\n",
    "- 붓꽃 종을 나타내는 클래스 정보를 target 함수를 사용해 가져와 변수 y에 저장\n",
    "- x, y 데이터에 대해 train : test = 8 : 2 로 구분\n",
    "- train set : X_train, Y_train\n",
    "- test set : X_test, Y_test"
   ]
  },
  {
   "cell_type": "code",
   "execution_count": 6,
   "id": "e25cc6dc",
   "metadata": {},
   "outputs": [],
   "source": [
    "X = data.data\n",
    "y = data.target\n",
    "X_train, X_test, y_train, y_test = train_test_split(X, y, test_size=0.2)"
   ]
  },
  {
   "cell_type": "markdown",
   "id": "781ad626",
   "metadata": {},
   "source": [
    "- start : 현재 시간을 시작 시간으로 기록\n",
    "- RandomForestClassifier를 사용해 분류 모델 estimator 생성, 200개의 tree 사용\n",
    "- fit 함수를 사용해 train data를 훈련\n",
    "- predict 함수를 사용해 X_test 에 대한 분류 결과 추출하고, Y_pred에 저장\n",
    "- end : 현재 시간에서 시작 시간을 뺀 수행 시간을 end에 저장\n",
    "- 실제값 Y_test와 예측값 Y_pred를 비교한 성능 평가 결과 출력 : confusion matrix, classification report, accuracy, f-measure, speed\n",
    "- 데이터 프레임에 성능 기록"
   ]
  },
  {
   "cell_type": "code",
   "execution_count": 7,
   "id": "bcadcf27",
   "metadata": {},
   "outputs": [
    {
     "name": "stdout",
     "output_type": "stream",
     "text": [
      "\n",
      " Confusion Matrix \n",
      "\n",
      "[[ 8  0  0]\n",
      " [ 0 11  1]\n",
      " [ 0  2  8]]\n",
      "\n",
      " Classification Report \n",
      "\n",
      "              precision    recall  f1-score   support\n",
      "\n",
      "           0       1.00      1.00      1.00         8\n",
      "           1       0.85      0.92      0.88        12\n",
      "           2       0.89      0.80      0.84        10\n",
      "\n",
      "    accuracy                           0.90        30\n",
      "   macro avg       0.91      0.91      0.91        30\n",
      "weighted avg       0.90      0.90      0.90        30\n",
      "\n",
      "\n",
      " Accuracy \n",
      "\n",
      "0.9\n",
      "\n",
      " F-Measure \n",
      "\n",
      "0.9\n",
      "\n",
      " Speed \n",
      "\n",
      "0.45 second\n"
     ]
    },
    {
     "data": {
      "text/html": [
       "<div>\n",
       "<style scoped>\n",
       "    .dataframe tbody tr th:only-of-type {\n",
       "        vertical-align: middle;\n",
       "    }\n",
       "\n",
       "    .dataframe tbody tr th {\n",
       "        vertical-align: top;\n",
       "    }\n",
       "\n",
       "    .dataframe thead th {\n",
       "        text-align: right;\n",
       "    }\n",
       "</style>\n",
       "<table border=\"1\" class=\"dataframe\">\n",
       "  <thead>\n",
       "    <tr style=\"text-align: right;\">\n",
       "      <th></th>\n",
       "      <th>Data Set</th>\n",
       "      <th>F-Measure</th>\n",
       "      <th>Accuracy</th>\n",
       "      <th>Speed (sec)</th>\n",
       "    </tr>\n",
       "  </thead>\n",
       "  <tbody>\n",
       "    <tr>\n",
       "      <th>0</th>\n",
       "      <td>Original</td>\n",
       "      <td>0.9</td>\n",
       "      <td>0.9</td>\n",
       "      <td>0.45</td>\n",
       "    </tr>\n",
       "  </tbody>\n",
       "</table>\n",
       "</div>"
      ],
      "text/plain": [
       "   Data Set  F-Measure  Accuracy  Speed (sec)\n",
       "0  Original        0.9       0.9         0.45"
      ]
     },
     "execution_count": 7,
     "metadata": {},
     "output_type": "execute_result"
    }
   ],
   "source": [
    "start = time.time()\n",
    "estimator = RandomForestClassifier(n_estimators=200)\n",
    "estimator.fit(X_train, y_train)\n",
    "y_pred = estimator.predict(X_test)\n",
    "end = time.time() - start\n",
    "\n",
    "print('\\n Confusion Matrix \\n')\n",
    "print(confusion_matrix(y_test, y_pred))\n",
    "print('\\n Classification Report \\n')\n",
    "print(classification_report(y_test, y_pred))\n",
    "print('\\n Accuracy \\n')\n",
    "ac = round(accuracy_score(y_test, y_pred, normalize=True), 2)\n",
    "print(ac)\n",
    "print('\\n F-Measure \\n')\n",
    "fm = round(f1_score(y_test, y_pred, average='weighted'), 2)\n",
    "print(fm)\n",
    "print('\\n Speed \\n')\n",
    "print('{:.2f} second' .format(end))\n",
    "\n",
    "df_per.loc[len(df_per)] = ['Original', fm, ac, float('{:.2f}'.format(end))]\n",
    "df_per"
   ]
  },
  {
   "cell_type": "markdown",
   "id": "4fe83612",
   "metadata": {},
   "source": [
    "# 2. PCA\n",
    "## 2.1 데이터 셋 준비\n",
    "- 데이터의 속성들을 변수 x에 저장\n",
    "- 클래스 정보를 target 함수를 사용해 가져와 변수 y에 저장\n",
    "- 종 정보를 변수 target_names에 저장"
   ]
  },
  {
   "cell_type": "code",
   "execution_count": 8,
   "id": "f2fc7c95",
   "metadata": {},
   "outputs": [],
   "source": [
    "X = data.data\n",
    "y = data.target\n",
    "target_names = data.target_names"
   ]
  },
  {
   "cell_type": "markdown",
   "id": "5f840979",
   "metadata": {},
   "source": [
    "## 2.2 PCA 모델 생성\n",
    "- PCA 라이브러리를 사용해 주성분 분석을 위한 모듈 pca를 생성\n",
    "- 주성분을 두 개 추출하기 위해 n_components를 2로 설정\n",
    "- 속성 데이터 x와 fit 함수를 사용해 pca 모델을 훈련시키고\n",
    "- transform 함수를 사용해 차원 축소를 진행\n",
    "- 차원 축소 결과를 변수 x_p에 저장\n",
    "- 모델 pca에 의해 추출된 주성분 두 개의 분산을 출력"
   ]
  },
  {
   "cell_type": "code",
   "execution_count": 9,
   "id": "6d990764",
   "metadata": {},
   "outputs": [
    {
     "name": "stdout",
     "output_type": "stream",
     "text": [
      "가장 큰 주성분 두 개에 대한 분산: [0.92461872 0.05306648]\n"
     ]
    }
   ],
   "source": [
    "pca = PCA(n_components=2)\n",
    "X_p = pca.fit(X).transform(X)\n",
    "print('가장 큰 주성분 두 개에 대한 분산: %s' % str(pca.explained_variance_ratio_))"
   ]
  },
  {
   "cell_type": "markdown",
   "id": "8a878b64",
   "metadata": {},
   "source": [
    "## 2.3 산포도 그리기\n",
    "- 산포도를 그리기 위한 figure의 크기를 설정\n",
    "- 클래스마다 색상을 다르게 표시하기 위해 색상을 붉은색과 푸른색으로 설정\n",
    "- for문을 사용해 데이터를 산포도에 그림\n",
    "- 색상[red,blue]과, 클래스[0,1], 클래스 이름[setosa,versicolor]을 내장함수 zip으로 묶음\n",
    "- zip함수를 사용하면 동일한 개수로 이루어진 자료형을 묶을 수 있음\n",
    "- 각 색상, 클래스, 클래스 이름에 대한 데이터를 하나씩 산포도로 그림\n",
    "- scatter 함수를 사용해 주성분 x_p의 클래스 y가 i 즉, 0 또는 1인지 확인 후,\n",
    "- x_p의 0번 속성을 x축 값, 1번 속성을 y축 값으로 지정하고\n",
    "- 해당 클래스 인덱스에 해당하는 색상으로 표시하고\n",
    "- 라벨을 클래스 이름으로 설정\n",
    "- legend 함수를 사용해 도표 설명(legend)을 표시\n",
    "- xlabel 함수를 사용해 x축 이름 PC(Principal Component)1를 표시\n",
    "- ylabel 함수를 사용해 y축 이름 PC(Principal Component)2를 표시\n",
    "- show 함수를 사용해 산포도 시각화"
   ]
  },
  {
   "cell_type": "code",
   "execution_count": 10,
   "id": "be53fceb",
   "metadata": {},
   "outputs": [
    {
     "data": {
      "image/png": "[encoded data removed]",
      "text/plain": [
       "<Figure size 720x720 with 1 Axes>"
      ]
     },
     "metadata": {},
     "output_type": "display_data"
    }
   ],
   "source": [
    "plt.figure(figsize=(10, 10))\n",
    "colors = ['red', 'blue']\n",
    "\n",
    "for color, i, target_name in zip(colors, [0, 1], target_names):\n",
    "    plt.scatter(X_p[y == i, 0], X_p[y == i, 1], color=color, label=target_name)\n",
    "\n",
    "plt.legend()\n",
    "plt.xlabel('PC 1')\n",
    "plt.ylabel('PC 2')\n",
    "plt.show()"
   ]
  },
  {
   "cell_type": "markdown",
   "id": "76dc01f2",
   "metadata": {},
   "source": [
    "## 2.4 분류\n",
    "- 주성분 20개를 추출하는 모듈 pca 생성\n",
    "- fit, transform 함수를 사용해 속성 데이터 x에서 주성분을 출력해 x_p에 저장\n",
    "- x, y 데이터에 대해 train : test = 8 : 2 로 구분\n",
    "- train set : X_train, Y_train\n",
    "- test set : X_test, Y_test"
   ]
  },
  {
   "cell_type": "code",
   "execution_count": 11,
   "id": "4cfa99eb",
   "metadata": {},
   "outputs": [],
   "source": [
    "pca = PCA(n_components=2)\n",
    "X_p = pca.fit(X).transform(X)\n",
    "X_train, X_test, y_train, y_test = train_test_split(X_p, y, test_size=0.2)"
   ]
  },
  {
   "cell_type": "markdown",
   "id": "43abec18",
   "metadata": {},
   "source": [
    "- start : 현재 시간을 시작 시간으로 기록\n",
    "- RandomForestClassifier를 사용해 분류 모델 estimator 생성, 200개의 tree 사용\n",
    "- fit 함수를 사용해 train data를 훈련\n",
    "- predict 함수를 사용해 X_test 에 대한 분류 결과 추출하고, Y_pred에 저장\n",
    "- end : 현재 시간에서 시작 시간을 뺀 수행 시간을 end에 저장\n",
    "- 실제값 Y_test와 예측값 Y_pred를 비교한 성능 평가 결과 출력 : confusion matrix, classification report, accuracy, f-measure, speed\n",
    "- 데이터 프레임에 성능 기록"
   ]
  },
  {
   "cell_type": "code",
   "execution_count": 12,
   "id": "9c85c3c8",
   "metadata": {},
   "outputs": [
    {
     "name": "stdout",
     "output_type": "stream",
     "text": [
      "\n",
      " Confusion Matrix \n",
      "\n",
      "[[12  0  0]\n",
      " [ 0  8  2]\n",
      " [ 0  0  8]]\n",
      "\n",
      " Classification Report \n",
      "\n",
      "              precision    recall  f1-score   support\n",
      "\n",
      "           0       1.00      1.00      1.00        12\n",
      "           1       1.00      0.80      0.89        10\n",
      "           2       0.80      1.00      0.89         8\n",
      "\n",
      "    accuracy                           0.93        30\n",
      "   macro avg       0.93      0.93      0.93        30\n",
      "weighted avg       0.95      0.93      0.93        30\n",
      "\n",
      "\n",
      " Accuracy \n",
      "\n",
      "0.93\n",
      "\n",
      " F-Measure \n",
      "\n",
      "0.93\n",
      "\n",
      " Speed \n",
      "\n",
      "0.48 second\n"
     ]
    },
    {
     "data": {
      "text/html": [
       "<div>\n",
       "<style scoped>\n",
       "    .dataframe tbody tr th:only-of-type {\n",
       "        vertical-align: middle;\n",
       "    }\n",
       "\n",
       "    .dataframe tbody tr th {\n",
       "        vertical-align: top;\n",
       "    }\n",
       "\n",
       "    .dataframe thead th {\n",
       "        text-align: right;\n",
       "    }\n",
       "</style>\n",
       "<table border=\"1\" class=\"dataframe\">\n",
       "  <thead>\n",
       "    <tr style=\"text-align: right;\">\n",
       "      <th></th>\n",
       "      <th>Data Set</th>\n",
       "      <th>F-Measure</th>\n",
       "      <th>Accuracy</th>\n",
       "      <th>Speed (sec)</th>\n",
       "    </tr>\n",
       "  </thead>\n",
       "  <tbody>\n",
       "    <tr>\n",
       "      <th>0</th>\n",
       "      <td>Original</td>\n",
       "      <td>0.90</td>\n",
       "      <td>0.90</td>\n",
       "      <td>0.45</td>\n",
       "    </tr>\n",
       "    <tr>\n",
       "      <th>1</th>\n",
       "      <td>PCA</td>\n",
       "      <td>0.93</td>\n",
       "      <td>0.93</td>\n",
       "      <td>0.48</td>\n",
       "    </tr>\n",
       "  </tbody>\n",
       "</table>\n",
       "</div>"
      ],
      "text/plain": [
       "   Data Set  F-Measure  Accuracy  Speed (sec)\n",
       "0  Original       0.90      0.90         0.45\n",
       "1       PCA       0.93      0.93         0.48"
      ]
     },
     "execution_count": 12,
     "metadata": {},
     "output_type": "execute_result"
    }
   ],
   "source": [
    "start = time.time()\n",
    "estimator = RandomForestClassifier(n_estimators=200)\n",
    "estimator.fit(X_train, y_train)\n",
    "y_pred = estimator.predict(X_test)\n",
    "end = time.time() - start\n",
    "\n",
    "print('\\n Confusion Matrix \\n')\n",
    "print(confusion_matrix(y_test, y_pred))\n",
    "print('\\n Classification Report \\n')\n",
    "print(classification_report(y_test, y_pred))\n",
    "print('\\n Accuracy \\n')\n",
    "ac = round(accuracy_score(y_test, y_pred, normalize=True), 2)\n",
    "print(ac)\n",
    "print('\\n F-Measure \\n')\n",
    "fm = round(f1_score(y_test, y_pred, average='weighted'), 2)\n",
    "print(fm)\n",
    "print('\\n Speed \\n')\n",
    "print('{:.2f} second'.format(end))\n",
    "\n",
    "df_per.loc[len(df_per)] = ['PCA', fm, ac, float('{:.2f}'.format(end))]\n",
    "df_per"
   ]
  },
  {
   "cell_type": "markdown",
   "id": "735fd46d",
   "metadata": {},
   "source": [
    "# 3. LDA\n",
    "## 3.1 데이터 셋 준비\n",
    "- 데이터의 속성들을 변수 x에 저장\n",
    "- 클래스 정보를 target 함수를 사용해 가져와 변수 y에 저장\n",
    "- 클래스 명을 변수 target_names에 저장"
   ]
  },
  {
   "cell_type": "code",
   "execution_count": 13,
   "id": "a87e4164",
   "metadata": {},
   "outputs": [],
   "source": [
    "X = data.data\n",
    "y = data.target\n",
    "target_names = data.target_names"
   ]
  },
  {
   "cell_type": "markdown",
   "id": "35c58234",
   "metadata": {},
   "source": [
    "## 3.2 LDA 모델 생성\n",
    "- LDA를 사용하기 위해 라이브러리 LinearDiscriminantAnalysis를 사용해 선형 판별 분석을 위한 모듈 lda를 생성\n",
    "- 고유값을 사용해 클래스를 구분하는 벡터를 구하기 위해 solve를 eigen으로 설정\n",
    "- 주성분을 두 개 추출하기 위해 n_components를 2로 설정\n",
    "- 속성 데이터 x, 클래스 데이터y와 fit 함수를 사용해 lda 모델을 훈련시키고\n",
    "- transform 함수를 사용해 차원 축소를 진행\n",
    "- 차원 축소 결과를 변수 x_l에 저장"
   ]
  },
  {
   "cell_type": "code",
   "execution_count": 14,
   "id": "f86af262",
   "metadata": {},
   "outputs": [],
   "source": [
    "lda = LinearDiscriminantAnalysis(solver='eigen', n_components=2)\n",
    "X_l = lda.fit(X, y).transform(X)"
   ]
  },
  {
   "cell_type": "markdown",
   "id": "721cebc7",
   "metadata": {},
   "source": [
    "## 3.3 산포도 그리기\n",
    "- 산포도를 그리기 위한 figure의 크기를 설정\n",
    "- 클래스마다 색상을 다르게 표시하기 위해 색상을 붉은색과 푸른색으로 설정\n",
    "- for문을 사용해 데이터를 산포도에 그림\n",
    "- 색상[red,blue]과, 클래스[0,1], 클래스 이름[setosa,versicolor]을 내장함수 zip으로 묶음\n",
    "- zip함수를 사용하면 동일한 개수로 이루어진 자료형을 묶을 수 있음\n",
    "- 각 색상, 클래스, 클래스 이름에 대한 데이터를 하나씩 산포도로 그림\n",
    "- scatter 함수를 사용해 주성분 x_l의 클래스 y가 i 즉, 0 또는 1인지 확인 후,\n",
    "- x_l의 0번 속성을 x축 값, 1번 속성을 y축 값으로 지정하고\n",
    "- 해당 클래스 인덱스에 해당하는 색상으로 표시하고\n",
    "- 라벨을 클래스 이름으로 설정\n",
    "- legend 함수를 사용해 도표 설명(legend)을 표시\n",
    "- xlabel 함수를 사용해 x축 이름 LD1를 표시\n",
    "- ylabel 함수를 사용해 y축 이름 LD2를 표시\n",
    "- show 함수를 사용해 산포도 시각화"
   ]
  },
  {
   "cell_type": "code",
   "execution_count": 15,
   "id": "fb671efe",
   "metadata": {},
   "outputs": [
    {
     "data": {
      "image/png": "[encoded data removed]",
      "text/plain": [
       "<Figure size 720x720 with 1 Axes>"
      ]
     },
     "metadata": {},
     "output_type": "display_data"
    }
   ],
   "source": [
    "plt.figure(figsize=(10, 10))\n",
    "colors = ['red', 'blue']\n",
    "\n",
    "for color, i, target_name in zip(colors, [0, 1], target_names):\n",
    "    plt.scatter(X_l[y == i, 0], X_l[y == i, 1], color=color, label=target_name)\n",
    "\n",
    "plt.legend()\n",
    "plt.xlabel('LD 1')\n",
    "plt.ylabel('LD 2')\n",
    "plt.show()"
   ]
  },
  {
   "cell_type": "markdown",
   "id": "ceb6655d",
   "metadata": {},
   "source": [
    "## 3.4 분류\n",
    "- 주성분 20개를 추출하는 모듈 lda 생성\n",
    "- fit, transform 함수를 사용해 속성 데이터 x에서 주성분을 출력해 x_l에 저장\n",
    "- x, y 데이터에 대해 train : test = 8 : 2 로 구분\n",
    "- train set : X_train, y_train\n",
    "- test set : X_test, y_test"
   ]
  },
  {
   "cell_type": "code",
   "execution_count": 16,
   "id": "d2c799bc",
   "metadata": {},
   "outputs": [],
   "source": [
    "lda = LinearDiscriminantAnalysis(n_components=2)\n",
    "X_l = lda.fit(X, y).transform(X)\n",
    "X_train, X_test, y_train, y_test = train_test_split(X_l, y, test_size=0.2)"
   ]
  },
  {
   "cell_type": "markdown",
   "id": "b8cfa5e0",
   "metadata": {},
   "source": [
    "- start : 현재 시간을 시작 시간으로 기록\n",
    "- RandomForestClassifier를 사용해 분류 모델 estimator 생성, 200개의 tree 사용\n",
    "- fit 함수를 사용해 train data를 훈련\n",
    "- predict 함수를 사용해 X_test 에 대한 분류 결과 추출하고, Y_pred에 저장\n",
    "- end : 현재 시간에서 시작 시간을 뺀 수행 시간을 end에 저장\n",
    "- 실제값 Y_test와 예측값 Y_pred를 비교한 성능 평가 결과 출력 : confusion matrix, classification report, accuracy, f-measure, speed\n",
    "- 데이터 프레임에 성능 기록"
   ]
  },
  {
   "cell_type": "code",
   "execution_count": 17,
   "id": "de49f9f2",
   "metadata": {},
   "outputs": [
    {
     "name": "stdout",
     "output_type": "stream",
     "text": [
      "\n",
      " Confusion Matrix \n",
      "\n",
      "[[ 8  0  0]\n",
      " [ 0 10  0]\n",
      " [ 0  2 10]]\n",
      "\n",
      " Classification Report \n",
      "\n",
      "              precision    recall  f1-score   support\n",
      "\n",
      "           0       1.00      1.00      1.00         8\n",
      "           1       0.83      1.00      0.91        10\n",
      "           2       1.00      0.83      0.91        12\n",
      "\n",
      "    accuracy                           0.93        30\n",
      "   macro avg       0.94      0.94      0.94        30\n",
      "weighted avg       0.94      0.93      0.93        30\n",
      "\n",
      "\n",
      " Accuracy \n",
      "\n",
      "0.93\n",
      "\n",
      " F-Measure \n",
      "\n",
      "0.93\n",
      "\n",
      " Speed \n",
      "\n",
      "0.45 second\n"
     ]
    },
    {
     "data": {
      "text/html": [
       "<div>\n",
       "<style scoped>\n",
       "    .dataframe tbody tr th:only-of-type {\n",
       "        vertical-align: middle;\n",
       "    }\n",
       "\n",
       "    .dataframe tbody tr th {\n",
       "        vertical-align: top;\n",
       "    }\n",
       "\n",
       "    .dataframe thead th {\n",
       "        text-align: right;\n",
       "    }\n",
       "</style>\n",
       "<table border=\"1\" class=\"dataframe\">\n",
       "  <thead>\n",
       "    <tr style=\"text-align: right;\">\n",
       "      <th></th>\n",
       "      <th>Data Set</th>\n",
       "      <th>F-Measure</th>\n",
       "      <th>Accuracy</th>\n",
       "      <th>Speed (sec)</th>\n",
       "    </tr>\n",
       "  </thead>\n",
       "  <tbody>\n",
       "    <tr>\n",
       "      <th>0</th>\n",
       "      <td>Original</td>\n",
       "      <td>0.90</td>\n",
       "      <td>0.90</td>\n",
       "      <td>0.45</td>\n",
       "    </tr>\n",
       "    <tr>\n",
       "      <th>1</th>\n",
       "      <td>PCA</td>\n",
       "      <td>0.93</td>\n",
       "      <td>0.93</td>\n",
       "      <td>0.48</td>\n",
       "    </tr>\n",
       "    <tr>\n",
       "      <th>2</th>\n",
       "      <td>LDA</td>\n",
       "      <td>0.93</td>\n",
       "      <td>0.93</td>\n",
       "      <td>0.45</td>\n",
       "    </tr>\n",
       "  </tbody>\n",
       "</table>\n",
       "</div>"
      ],
      "text/plain": [
       "   Data Set  F-Measure  Accuracy  Speed (sec)\n",
       "0  Original       0.90      0.90         0.45\n",
       "1       PCA       0.93      0.93         0.48\n",
       "2       LDA       0.93      0.93         0.45"
      ]
     },
     "execution_count": 17,
     "metadata": {},
     "output_type": "execute_result"
    }
   ],
   "source": [
    "start = time.time()\n",
    "estimator = RandomForestClassifier(n_estimators=200)\n",
    "estimator.fit(X_train, y_train)\n",
    "y_pred = estimator.predict(X_test)\n",
    "end = time.time() - start\n",
    "\n",
    "print('\\n Confusion Matrix \\n')\n",
    "print(confusion_matrix(y_test, y_pred))\n",
    "print('\\n Classification Report \\n')\n",
    "print(classification_report(y_test, y_pred))\n",
    "print('\\n Accuracy \\n')\n",
    "ac = round(accuracy_score(y_test, y_pred, normalize=True), 2)\n",
    "print(ac)\n",
    "print('\\n F-Measure \\n')\n",
    "fm = round(f1_score(y_test, y_pred, average='weighted'), 2)\n",
    "print(fm)\n",
    "print('\\n Speed \\n')\n",
    "print('{:.2f} second'.format(end))\n",
    "\n",
    "df_per.loc[len(df_per)] = ['LDA', fm, ac, float('{:.2f}'.format(end))]\n",
    "df_per"
   ]
  },
  {
   "cell_type": "markdown",
   "id": "2d99ccd6",
   "metadata": {},
   "source": [
    "# 4.성능 비교\n",
    "- 시각화를 위해 데이터 셋 종류를 index로 지정"
   ]
  },
  {
   "cell_type": "code",
   "execution_count": 18,
   "id": "4e588a20",
   "metadata": {},
   "outputs": [
    {
     "data": {
      "text/html": [
       "<div>\n",
       "<style scoped>\n",
       "    .dataframe tbody tr th:only-of-type {\n",
       "        vertical-align: middle;\n",
       "    }\n",
       "\n",
       "    .dataframe tbody tr th {\n",
       "        vertical-align: top;\n",
       "    }\n",
       "\n",
       "    .dataframe thead th {\n",
       "        text-align: right;\n",
       "    }\n",
       "</style>\n",
       "<table border=\"1\" class=\"dataframe\">\n",
       "  <thead>\n",
       "    <tr style=\"text-align: right;\">\n",
       "      <th></th>\n",
       "      <th>F-Measure</th>\n",
       "      <th>Accuracy</th>\n",
       "      <th>Speed (sec)</th>\n",
       "    </tr>\n",
       "    <tr>\n",
       "      <th>Data Set</th>\n",
       "      <th></th>\n",
       "      <th></th>\n",
       "      <th></th>\n",
       "    </tr>\n",
       "  </thead>\n",
       "  <tbody>\n",
       "    <tr>\n",
       "      <th>Original</th>\n",
       "      <td>0.90</td>\n",
       "      <td>0.90</td>\n",
       "      <td>0.45</td>\n",
       "    </tr>\n",
       "    <tr>\n",
       "      <th>PCA</th>\n",
       "      <td>0.93</td>\n",
       "      <td>0.93</td>\n",
       "      <td>0.48</td>\n",
       "    </tr>\n",
       "    <tr>\n",
       "      <th>LDA</th>\n",
       "      <td>0.93</td>\n",
       "      <td>0.93</td>\n",
       "      <td>0.45</td>\n",
       "    </tr>\n",
       "  </tbody>\n",
       "</table>\n",
       "</div>"
      ],
      "text/plain": [
       "          F-Measure  Accuracy  Speed (sec)\n",
       "Data Set                                  \n",
       "Original       0.90      0.90         0.45\n",
       "PCA            0.93      0.93         0.48\n",
       "LDA            0.93      0.93         0.45"
      ]
     },
     "execution_count": 18,
     "metadata": {},
     "output_type": "execute_result"
    }
   ],
   "source": [
    "df_per_1 = df_per.set_index('Data Set')\n",
    "df_per_1"
   ]
  },
  {
   "cell_type": "markdown",
   "id": "510e1ac8",
   "metadata": {},
   "source": [
    "- F-measure, Accuracy, Speed (sec) 값을 plot 함수를 사용해 시각화\n",
    "- kind='bar' : 막대 그래프\n",
    "- title='preformance' : 그래프 제목\n",
    "- figsize : 그래프 크기 지정\n",
    "- legend : 데이터 설명\n",
    "- fontsize : 글씨 크기\n",
    "- 그래프의 x축을 'Data Set' 이름으로 지정\n",
    "- 그래프의 각 객체 patch에 대해 데이터 레이블을 입력\n",
    "- annotate 함수를 사용해 입력할 값과 그래프 상 위치(x, y)를 지정\n",
    "- 그래프 그리기"
   ]
  },
  {
   "cell_type": "code",
   "execution_count": 19,
   "id": "6fc79963",
   "metadata": {},
   "outputs": [
    {
     "data": {
      "image/png": "[encoded data removed]",
      "text/plain": [
       "<Figure size 864x360 with 1 Axes>"
      ]
     },
     "metadata": {},
     "output_type": "display_data"
    }
   ],
   "source": [
    "ax = df_per_1[['F-Measure', 'Accuracy', 'Speed (sec)']].plot(kind='bar', title ='Performance',\\\n",
    "                                                             figsize=(12, 5), legend=True, fontsize=12)\n",
    "ax.set_xlabel('Data Set', fontsize=12)\n",
    "\n",
    "for p in ax.patches:\n",
    "    ax.annotate(p.get_height(), (p.get_x(), p.get_height()))\n",
    "\n",
    "plt.show()"
   ]
  },
  {
   "cell_type": "code",
   "execution_count": null,
   "id": "a9e3f59a",
   "metadata": {},
   "outputs": [],
   "source": []
  }
 ],
 "metadata": {
  "kernelspec": {
   "display_name": "Python 3 (ipykernel)",
   "language": "python",
   "name": "python3"
  },
  "language_info": {
   "codemirror_mode": {
    "name": "ipython",
    "version": 3
   },
   "file_extension": ".py",
   "mimetype": "text/x-python",
   "name": "python",
   "nbconvert_exporter": "python",
   "pygments_lexer": "ipython3",
   "version": "3.8.12"
  }
 },
 "nbformat": 4,
 "nbformat_minor": 5
}
