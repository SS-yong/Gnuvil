{
 "cells": [
  {
   "cell_type": "code",
   "execution_count": 1,
   "id": "8f37181f",
   "metadata": {},
   "outputs": [],
   "source": [
    "#랜덤 포레스트, iris"
   ]
  },
  {
   "cell_type": "code",
   "execution_count": 15,
   "id": "57fd4289",
   "metadata": {},
   "outputs": [],
   "source": [
    "import pandas as pd\n",
    "import numpy as np\n",
    "from sklearn.model_selection import train_test_split\n",
    "from sklearn.model_selection import cross_validate\n",
    "from sklearn.ensemble import RandomForestClassifier\n",
    "from sklearn.model_selection import GridSearchCV"
   ]
  },
  {
   "cell_type": "code",
   "execution_count": 16,
   "id": "791c510f",
   "metadata": {},
   "outputs": [],
   "source": [
    "from sklearn.datasets import load_iris\n",
    "iris = load_iris()\n",
    "x, y, labels = iris.data, iris.target, iris.target_names"
   ]
  },
  {
   "cell_type": "code",
   "execution_count": 17,
   "id": "e603cf9b",
   "metadata": {
    "scrolled": true
   },
   "outputs": [],
   "source": [
    "X_train, X_test, y_train, y_test = train_test_split(x, y, test_size=0.3,\n",
    "                                                    random_state=42, stratify = y)\n",
    "#stratify=y: 학습세트와 테스트세트 분포 일정"
   ]
  },
  {
   "cell_type": "code",
   "execution_count": 18,
   "id": "350df775",
   "metadata": {},
   "outputs": [
    {
     "data": {
      "text/plain": [
       "GridSearchCV(cv=5, estimator=RandomForestClassifier(random_state=42), n_jobs=-1,\n",
       "             param_grid=[{'max_depth': range(3, 5), 'max_features': range(1, 4),\n",
       "                          'n_estimators': range(5, 50, 10)}],\n",
       "             scoring='accuracy')"
      ]
     },
     "execution_count": 18,
     "metadata": {},
     "output_type": "execute_result"
    }
   ],
   "source": [
    "rf = RandomForestClassifier(random_state=42)\n",
    "param_grid = [{'n_estimators': range(5, 50, 10), 'max_features': range(1, 4),\n",
    "               'max_depth': range(3, 5)}]\n",
    "gs = GridSearchCV(estimator=rf, param_grid = param_grid, scoring = 'accuracy',\n",
    "                 cv = 5, n_jobs = -1)\n",
    "gs.fit(X_train, y_train)\n",
    "\n",
    "#n_estimators 값을 키우면 트리 개수 많아짐 -> 과대적합 줄임. 트리개수 많아지면 일반화 성능 좋아짐\n",
    "#max_features 값을 크게 하면 일반화 성능 떨어짐. "
   ]
  },
  {
   "cell_type": "code",
   "execution_count": 19,
   "id": "52bdb8ea",
   "metadata": {},
   "outputs": [
    {
     "name": "stdout",
     "output_type": "stream",
     "text": [
      "베스트 하이퍼 파라미터: {'max_depth': 3, 'max_features': 1, 'n_estimators': 5}\n",
      "베스트 하이퍼 파라미터일 때 정확도: 0.98\n"
     ]
    }
   ],
   "source": [
    "print('베스트 하이퍼 파라미터: {0}'.format(gs.best_params_))\n",
    "print('베스트 하이퍼 파라미터일 때 정확도: {0:.2f}'.format(gs.best_score_))"
   ]
  },
  {
   "cell_type": "code",
   "execution_count": 21,
   "id": "da8d0f48",
   "metadata": {},
   "outputs": [],
   "source": [
    "model = gs.best_estimator_"
   ]
  },
  {
   "cell_type": "code",
   "execution_count": 23,
   "id": "1e3cbe0d",
   "metadata": {},
   "outputs": [
    {
     "name": "stdout",
     "output_type": "stream",
     "text": [
      "테스트 세트에서의 정확도 0.91\n"
     ]
    }
   ],
   "source": [
    "score = model.score(X_test, y_test)\n",
    "print('테스트 세트에서의 정확도 {0:.2f}'.format(score))"
   ]
  },
  {
   "cell_type": "code",
   "execution_count": 25,
   "id": "2b583f67",
   "metadata": {},
   "outputs": [
    {
     "name": "stdout",
     "output_type": "stream",
     "text": [
      "실제 값: virginica, 예측 값: virginica\n",
      "실제 값: versicolor, 예측 값: versicolor\n",
      "실제 값: virginica, 예측 값: versicolor\n",
      "실제 값: versicolor, 예측 값: versicolor\n",
      "실제 값: virginica, 예측 값: virginica\n",
      "실제 값: virginica, 예측 값: virginica\n",
      "실제 값: versicolor, 예측 값: versicolor\n",
      "실제 값: versicolor, 예측 값: versicolor\n",
      "실제 값: setosa, 예측 값: setosa\n",
      "실제 값: virginica, 예측 값: virginica\n"
     ]
    }
   ],
   "source": [
    "predicted_y = model.predict(X_test)\n",
    "for i in range(10):\n",
    "    print('실제 값: {0}, 예측 값: {1}'.format(labels[y_test[i]], labels[predicted_y[i]]))"
   ]
  },
  {
   "cell_type": "code",
   "execution_count": null,
   "id": "527c9715",
   "metadata": {},
   "outputs": [],
   "source": []
  },
  {
   "cell_type": "code",
   "execution_count": null,
   "id": "68566df4",
   "metadata": {},
   "outputs": [],
   "source": []
  },
  {
   "cell_type": "code",
   "execution_count": null,
   "id": "82875ccd",
   "metadata": {},
   "outputs": [],
   "source": []
  },
  {
   "cell_type": "code",
   "execution_count": null,
   "id": "fa2720b3",
   "metadata": {},
   "outputs": [],
   "source": []
  },
  {
   "cell_type": "code",
   "execution_count": null,
   "id": "79e2c888",
   "metadata": {},
   "outputs": [],
   "source": []
  },
  {
   "cell_type": "code",
   "execution_count": null,
   "id": "ff7639a3",
   "metadata": {},
   "outputs": [],
   "source": []
  },
  {
   "cell_type": "code",
   "execution_count": null,
   "id": "62bdbd4f",
   "metadata": {},
   "outputs": [],
   "source": []
  },
  {
   "cell_type": "code",
   "execution_count": null,
   "id": "bb28e8ce",
   "metadata": {},
   "outputs": [],
   "source": []
  },
  {
   "cell_type": "code",
   "execution_count": null,
   "id": "d2e85661",
   "metadata": {},
   "outputs": [],
   "source": []
  }
 ],
 "metadata": {
  "kernelspec": {
   "display_name": "Python 3",
   "language": "python",
   "name": "python3"
  },
  "language_info": {
   "codemirror_mode": {
    "name": "ipython",
    "version": 3
   },
   "file_extension": ".py",
   "mimetype": "text/x-python",
   "name": "python",
   "nbconvert_exporter": "python",
   "pygments_lexer": "ipython3",
   "version": "3.8.8"
  }
 },
 "nbformat": 4,
 "nbformat_minor": 5
}
